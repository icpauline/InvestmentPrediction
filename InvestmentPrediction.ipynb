{
 "cells": [
  {
   "cell_type": "code",
   "execution_count": 20,
   "id": "8e1851ab",
   "metadata": {},
   "outputs": [
    {
     "name": "stdout",
     "output_type": "stream",
     "text": [
      "Collecting yfinance\n",
      "  Downloading yfinance-0.2.11-py2.py3-none-any.whl (59 kB)\n",
      "     -------------------------------------- 59.2/59.2 kB 261.7 kB/s eta 0:00:00\n",
      "Collecting multitasking>=0.0.7\n",
      "  Downloading multitasking-0.0.11-py3-none-any.whl (8.5 kB)\n",
      "Requirement already satisfied: appdirs>=1.4.4 in c:\\users\\pauline\\anaconda3\\lib\\site-packages (from yfinance) (1.4.4)\n",
      "Collecting html5lib>=1.1\n",
      "  Downloading html5lib-1.1-py2.py3-none-any.whl (112 kB)\n",
      "     -------------------------------------- 112.2/112.2 kB 1.3 MB/s eta 0:00:00\n",
      "Requirement already satisfied: cryptography>=3.3.2 in c:\\users\\pauline\\anaconda3\\lib\\site-packages (from yfinance) (37.0.1)\n",
      "Requirement already satisfied: lxml>=4.9.1 in c:\\users\\pauline\\anaconda3\\lib\\site-packages (from yfinance) (4.9.1)\n",
      "Collecting pytz>=2022.5\n",
      "  Downloading pytz-2022.7.1-py2.py3-none-any.whl (499 kB)\n",
      "     -------------------------------------- 499.4/499.4 kB 2.2 MB/s eta 0:00:00\n",
      "Requirement already satisfied: requests>=2.26 in c:\\users\\pauline\\anaconda3\\lib\\site-packages (from yfinance) (2.28.1)\n",
      "Requirement already satisfied: beautifulsoup4>=4.11.1 in c:\\users\\pauline\\anaconda3\\lib\\site-packages (from yfinance) (4.11.1)\n",
      "Collecting frozendict>=2.3.4\n",
      "  Downloading frozendict-2.3.4-cp39-cp39-win_amd64.whl (35 kB)\n",
      "Requirement already satisfied: pandas>=1.3.0 in c:\\users\\pauline\\anaconda3\\lib\\site-packages (from yfinance) (1.4.4)\n",
      "Requirement already satisfied: numpy>=1.16.5 in c:\\users\\pauline\\anaconda3\\lib\\site-packages (from yfinance) (1.21.5)\n",
      "Requirement already satisfied: soupsieve>1.2 in c:\\users\\pauline\\anaconda3\\lib\\site-packages (from beautifulsoup4>=4.11.1->yfinance) (2.3.1)\n",
      "Requirement already satisfied: cffi>=1.12 in c:\\users\\pauline\\anaconda3\\lib\\site-packages (from cryptography>=3.3.2->yfinance) (1.15.1)\n",
      "Requirement already satisfied: webencodings in c:\\users\\pauline\\anaconda3\\lib\\site-packages (from html5lib>=1.1->yfinance) (0.5.1)\n",
      "Requirement already satisfied: six>=1.9 in c:\\users\\pauline\\anaconda3\\lib\\site-packages (from html5lib>=1.1->yfinance) (1.16.0)\n",
      "Requirement already satisfied: python-dateutil>=2.8.1 in c:\\users\\pauline\\anaconda3\\lib\\site-packages (from pandas>=1.3.0->yfinance) (2.8.2)\n",
      "Requirement already satisfied: idna<4,>=2.5 in c:\\users\\pauline\\anaconda3\\lib\\site-packages (from requests>=2.26->yfinance) (3.3)\n",
      "Requirement already satisfied: urllib3<1.27,>=1.21.1 in c:\\users\\pauline\\anaconda3\\lib\\site-packages (from requests>=2.26->yfinance) (1.26.11)\n",
      "Requirement already satisfied: charset-normalizer<3,>=2 in c:\\users\\pauline\\anaconda3\\lib\\site-packages (from requests>=2.26->yfinance) (2.0.4)\n",
      "Requirement already satisfied: certifi>=2017.4.17 in c:\\users\\pauline\\anaconda3\\lib\\site-packages (from requests>=2.26->yfinance) (2022.9.14)\n",
      "Requirement already satisfied: pycparser in c:\\users\\pauline\\anaconda3\\lib\\site-packages (from cffi>=1.12->cryptography>=3.3.2->yfinance) (2.21)\n",
      "Installing collected packages: pytz, multitasking, html5lib, frozendict, yfinance\n",
      "  Attempting uninstall: pytz\n",
      "    Found existing installation: pytz 2022.1\n",
      "    Uninstalling pytz-2022.1:\n",
      "      Successfully uninstalled pytz-2022.1\n",
      "Successfully installed frozendict-2.3.4 html5lib-1.1 multitasking-0.0.11 pytz-2022.7.1 yfinance-0.2.11\n"
     ]
    },
    {
     "name": "stderr",
     "output_type": "stream",
     "text": [
      "ERROR: pip's dependency resolver does not currently take into account all the packages that are installed. This behaviour is the source of the following dependency conflicts.\n",
      "conda-repo-cli 1.0.20 requires clyent==1.2.1, but you have clyent 1.2.2 which is incompatible.\n",
      "conda-repo-cli 1.0.20 requires nbformat==5.4.0, but you have nbformat 5.5.0 which is incompatible.\n",
      "\n",
      "[notice] A new release of pip available: 22.2.2 -> 23.0\n",
      "[notice] To update, run: python.exe -m pip install --upgrade pip\n"
     ]
    }
   ],
   "source": [
    "!pip install yfinance"
   ]
  },
  {
   "cell_type": "code",
   "execution_count": 21,
   "id": "ba4ee817",
   "metadata": {},
   "outputs": [],
   "source": [
    "import yfinance as yfin"
   ]
  },
  {
   "cell_type": "code",
   "execution_count": 37,
   "id": "aa948d41",
   "metadata": {},
   "outputs": [
    {
     "name": "stdout",
     "output_type": "stream",
     "text": [
      "[*********************100%***********************]  1 of 1 completed\n"
     ]
    }
   ],
   "source": [
    "df_cisco = yfin.download('CSCO', start = '2003-2-1' , end = '2023-1-31')"
   ]
  },
  {
   "cell_type": "code",
   "execution_count": 38,
   "id": "8cfc793e",
   "metadata": {},
   "outputs": [
    {
     "data": {
      "text/html": [
       "<div>\n",
       "<style scoped>\n",
       "    .dataframe tbody tr th:only-of-type {\n",
       "        vertical-align: middle;\n",
       "    }\n",
       "\n",
       "    .dataframe tbody tr th {\n",
       "        vertical-align: top;\n",
       "    }\n",
       "\n",
       "    .dataframe thead th {\n",
       "        text-align: right;\n",
       "    }\n",
       "</style>\n",
       "<table border=\"1\" class=\"dataframe\">\n",
       "  <thead>\n",
       "    <tr style=\"text-align: right;\">\n",
       "      <th></th>\n",
       "      <th>Open</th>\n",
       "      <th>High</th>\n",
       "      <th>Low</th>\n",
       "      <th>Close</th>\n",
       "      <th>Adj Close</th>\n",
       "      <th>Volume</th>\n",
       "    </tr>\n",
       "    <tr>\n",
       "      <th>Date</th>\n",
       "      <th></th>\n",
       "      <th></th>\n",
       "      <th></th>\n",
       "      <th></th>\n",
       "      <th></th>\n",
       "      <th></th>\n",
       "    </tr>\n",
       "  </thead>\n",
       "  <tbody>\n",
       "    <tr>\n",
       "      <th>2003-02-03</th>\n",
       "      <td>13.52</td>\n",
       "      <td>13.80</td>\n",
       "      <td>13.38</td>\n",
       "      <td>13.48</td>\n",
       "      <td>9.496675</td>\n",
       "      <td>65976600</td>\n",
       "    </tr>\n",
       "    <tr>\n",
       "      <th>2003-02-04</th>\n",
       "      <td>13.24</td>\n",
       "      <td>13.24</td>\n",
       "      <td>12.87</td>\n",
       "      <td>13.20</td>\n",
       "      <td>9.299413</td>\n",
       "      <td>110586200</td>\n",
       "    </tr>\n",
       "    <tr>\n",
       "      <th>2003-02-05</th>\n",
       "      <td>13.31</td>\n",
       "      <td>13.60</td>\n",
       "      <td>13.10</td>\n",
       "      <td>13.20</td>\n",
       "      <td>9.299413</td>\n",
       "      <td>115080200</td>\n",
       "    </tr>\n",
       "    <tr>\n",
       "      <th>2003-02-06</th>\n",
       "      <td>13.11</td>\n",
       "      <td>13.41</td>\n",
       "      <td>13.07</td>\n",
       "      <td>13.24</td>\n",
       "      <td>9.327594</td>\n",
       "      <td>58738900</td>\n",
       "    </tr>\n",
       "    <tr>\n",
       "      <th>2003-02-07</th>\n",
       "      <td>13.34</td>\n",
       "      <td>13.44</td>\n",
       "      <td>12.66</td>\n",
       "      <td>12.85</td>\n",
       "      <td>9.052840</td>\n",
       "      <td>69851700</td>\n",
       "    </tr>\n",
       "  </tbody>\n",
       "</table>\n",
       "</div>"
      ],
      "text/plain": [
       "             Open   High    Low  Close  Adj Close     Volume\n",
       "Date                                                        \n",
       "2003-02-03  13.52  13.80  13.38  13.48   9.496675   65976600\n",
       "2003-02-04  13.24  13.24  12.87  13.20   9.299413  110586200\n",
       "2003-02-05  13.31  13.60  13.10  13.20   9.299413  115080200\n",
       "2003-02-06  13.11  13.41  13.07  13.24   9.327594   58738900\n",
       "2003-02-07  13.34  13.44  12.66  12.85   9.052840   69851700"
      ]
     },
     "execution_count": 38,
     "metadata": {},
     "output_type": "execute_result"
    }
   ],
   "source": [
    "df_cisco.head()"
   ]
  },
  {
   "cell_type": "code",
   "execution_count": 39,
   "id": "b5705f48",
   "metadata": {},
   "outputs": [
    {
     "data": {
      "text/html": [
       "<div>\n",
       "<style scoped>\n",
       "    .dataframe tbody tr th:only-of-type {\n",
       "        vertical-align: middle;\n",
       "    }\n",
       "\n",
       "    .dataframe tbody tr th {\n",
       "        vertical-align: top;\n",
       "    }\n",
       "\n",
       "    .dataframe thead th {\n",
       "        text-align: right;\n",
       "    }\n",
       "</style>\n",
       "<table border=\"1\" class=\"dataframe\">\n",
       "  <thead>\n",
       "    <tr style=\"text-align: right;\">\n",
       "      <th></th>\n",
       "      <th>Open</th>\n",
       "      <th>High</th>\n",
       "      <th>Low</th>\n",
       "      <th>Close</th>\n",
       "      <th>Adj Close</th>\n",
       "      <th>Volume</th>\n",
       "    </tr>\n",
       "    <tr>\n",
       "      <th>Date</th>\n",
       "      <th></th>\n",
       "      <th></th>\n",
       "      <th></th>\n",
       "      <th></th>\n",
       "      <th></th>\n",
       "      <th></th>\n",
       "    </tr>\n",
       "  </thead>\n",
       "  <tbody>\n",
       "    <tr>\n",
       "      <th>2023-01-24</th>\n",
       "      <td>47.490002</td>\n",
       "      <td>48.020000</td>\n",
       "      <td>47.060001</td>\n",
       "      <td>47.810001</td>\n",
       "      <td>47.810001</td>\n",
       "      <td>14872700</td>\n",
       "    </tr>\n",
       "    <tr>\n",
       "      <th>2023-01-25</th>\n",
       "      <td>47.980000</td>\n",
       "      <td>48.080002</td>\n",
       "      <td>47.230000</td>\n",
       "      <td>47.980000</td>\n",
       "      <td>47.980000</td>\n",
       "      <td>14638700</td>\n",
       "    </tr>\n",
       "    <tr>\n",
       "      <th>2023-01-26</th>\n",
       "      <td>48.150002</td>\n",
       "      <td>48.470001</td>\n",
       "      <td>47.830002</td>\n",
       "      <td>48.340000</td>\n",
       "      <td>48.340000</td>\n",
       "      <td>12952700</td>\n",
       "    </tr>\n",
       "    <tr>\n",
       "      <th>2023-01-27</th>\n",
       "      <td>48.099998</td>\n",
       "      <td>48.730000</td>\n",
       "      <td>47.970001</td>\n",
       "      <td>48.509998</td>\n",
       "      <td>48.509998</td>\n",
       "      <td>13414200</td>\n",
       "    </tr>\n",
       "    <tr>\n",
       "      <th>2023-01-30</th>\n",
       "      <td>48.139999</td>\n",
       "      <td>48.500000</td>\n",
       "      <td>48.119999</td>\n",
       "      <td>48.220001</td>\n",
       "      <td>48.220001</td>\n",
       "      <td>19261900</td>\n",
       "    </tr>\n",
       "  </tbody>\n",
       "</table>\n",
       "</div>"
      ],
      "text/plain": [
       "                 Open       High        Low      Close  Adj Close    Volume\n",
       "Date                                                                       \n",
       "2023-01-24  47.490002  48.020000  47.060001  47.810001  47.810001  14872700\n",
       "2023-01-25  47.980000  48.080002  47.230000  47.980000  47.980000  14638700\n",
       "2023-01-26  48.150002  48.470001  47.830002  48.340000  48.340000  12952700\n",
       "2023-01-27  48.099998  48.730000  47.970001  48.509998  48.509998  13414200\n",
       "2023-01-30  48.139999  48.500000  48.119999  48.220001  48.220001  19261900"
      ]
     },
     "execution_count": 39,
     "metadata": {},
     "output_type": "execute_result"
    }
   ],
   "source": [
    "df_cisco.tail()"
   ]
  },
  {
   "cell_type": "code",
   "execution_count": 43,
   "id": "a8d21382",
   "metadata": {},
   "outputs": [],
   "source": [
    "df_cisco.to_csv('cisco20yrs.csv', index=False)"
   ]
  },
  {
   "cell_type": "code",
   "execution_count": 44,
   "id": "9acbe17c",
   "metadata": {},
   "outputs": [
    {
     "data": {
      "text/plain": [
       "(5033, 6)"
      ]
     },
     "execution_count": 44,
     "metadata": {},
     "output_type": "execute_result"
    }
   ],
   "source": [
    "df_cisco.shape"
   ]
  },
  {
   "cell_type": "code",
   "execution_count": 42,
   "id": "477a8390",
   "metadata": {},
   "outputs": [
    {
     "data": {
      "text/plain": [
       "Open         0\n",
       "High         0\n",
       "Low          0\n",
       "Close        0\n",
       "Adj Close    0\n",
       "Volume       0\n",
       "dtype: int64"
      ]
     },
     "execution_count": 42,
     "metadata": {},
     "output_type": "execute_result"
    }
   ],
   "source": [
    "df_cisco.isnull().sum()"
   ]
  },
  {
   "cell_type": "markdown",
   "id": "bf3f222d",
   "metadata": {},
   "source": [
    "### Using only the Close values"
   ]
  },
  {
   "cell_type": "code",
   "execution_count": 45,
   "id": "425a31b4",
   "metadata": {},
   "outputs": [],
   "source": [
    "df1=df_cisco.reset_index()['Close']"
   ]
  },
  {
   "cell_type": "code",
   "execution_count": 46,
   "id": "17b3287f",
   "metadata": {},
   "outputs": [
    {
     "data": {
      "text/plain": [
       "0    13.48\n",
       "1    13.20\n",
       "2    13.20\n",
       "3    13.24\n",
       "4    12.85\n",
       "Name: Close, dtype: float64"
      ]
     },
     "execution_count": 46,
     "metadata": {},
     "output_type": "execute_result"
    }
   ],
   "source": [
    "df1.head()"
   ]
  },
  {
   "cell_type": "markdown",
   "id": "483ee0a3",
   "metadata": {},
   "source": [
    "### Visualizing the data"
   ]
  },
  {
   "cell_type": "code",
   "execution_count": 47,
   "id": "e645f2a0",
   "metadata": {},
   "outputs": [
    {
     "data": {
      "text/plain": [
       "[<matplotlib.lines.Line2D at 0x804be688e0>]"
      ]
     },
     "execution_count": 47,
     "metadata": {},
     "output_type": "execute_result"
    },
    {
     "data": {
      "image/png": "[encoded data removed]",
      "text/plain": [
       "<Figure size 640x480 with 1 Axes>"
      ]
     },
     "metadata": {},
     "output_type": "display_data"
    }
   ],
   "source": [
    "import matplotlib.pyplot as plt\n",
    "plt.plot(df1)"
   ]
  },
  {
   "cell_type": "markdown",
   "id": "40a8345c",
   "metadata": {},
   "source": [
    "### Scaling the data"
   ]
  },
  {
   "cell_type": "code",
   "execution_count": 49,
   "id": "75270be0",
   "metadata": {},
   "outputs": [],
   "source": [
    "import numpy as np"
   ]
  },
  {
   "cell_type": "code",
   "execution_count": 50,
   "id": "af5e0762",
   "metadata": {},
   "outputs": [],
   "source": [
    "from sklearn.preprocessing import MinMaxScaler\n",
    "scaler=MinMaxScaler(feature_range=(0,1))\n",
    "df1=scaler.fit_transform(np.array(df1).reshape(-1,1))"
   ]
  },
  {
   "cell_type": "markdown",
   "id": "b72dd5cd",
   "metadata": {},
   "source": [
    "### Train Test Split"
   ]
  },
  {
   "cell_type": "code",
   "execution_count": 52,
   "id": "3f2b9652",
   "metadata": {},
   "outputs": [],
   "source": [
    "training_size=int(len(df1)*0.65)\n",
    "test_size=len(df1)-training_size\n",
    "train_data,test_data=df1[0:training_size,:],df1[training_size:len(df1),:1]"
   ]
  },
  {
   "cell_type": "code",
   "execution_count": 53,
   "id": "81d5b9b2",
   "metadata": {},
   "outputs": [
    {
     "data": {
      "text/plain": [
       "(3271, 1762)"
      ]
     },
     "execution_count": 53,
     "metadata": {},
     "output_type": "execute_result"
    }
   ],
   "source": [
    "training_size,test_size"
   ]
  },
  {
   "cell_type": "code",
   "execution_count": 54,
   "id": "74453c3b",
   "metadata": {},
   "outputs": [],
   "source": [
    "# Converting array to dataframe\n",
    "\n",
    "\n",
    "def create_dataset(dataset, time_step=1):\n",
    "    dataX, dataY = [], []\n",
    "    for i in range(len(dataset)-time_step-1):\n",
    "        a = dataset[i:(i+time_step), 0]   ###i=0, 0,1,2,3-----99   100 \n",
    "        dataX.append(a)\n",
    "        dataY.append(dataset[i + time_step, 0])\n",
    "    return np.array(dataX), np.array(dataY)"
   ]
  },
  {
   "cell_type": "code",
   "execution_count": 57,
   "id": "98adcf42",
   "metadata": {},
   "outputs": [],
   "source": [
    "time_step = 100\n",
    "X_train, y_train = create_dataset(train_data, time_step)\n",
    "X_test, ytest = create_dataset(test_data, time_step)"
   ]
  },
  {
   "cell_type": "code",
   "execution_count": 58,
   "id": "7a7e6da2",
   "metadata": {},
   "outputs": [
    {
     "name": "stdout",
     "output_type": "stream",
     "text": [
      "(3170, 100)\n",
      "(3170,)\n"
     ]
    },
    {
     "data": {
      "text/plain": [
       "(None, None)"
      ]
     },
     "execution_count": 58,
     "metadata": {},
     "output_type": "execute_result"
    }
   ],
   "source": [
    "print(X_train.shape), print(y_train.shape)"
   ]
  },
  {
   "cell_type": "code",
   "execution_count": 59,
   "id": "de413ce5",
   "metadata": {},
   "outputs": [
    {
     "name": "stdout",
     "output_type": "stream",
     "text": [
      "(1661, 100)\n",
      "(1661,)\n"
     ]
    },
    {
     "data": {
      "text/plain": [
       "(None, None)"
      ]
     },
     "execution_count": 59,
     "metadata": {},
     "output_type": "execute_result"
    }
   ],
   "source": [
    "print(X_test.shape), print(ytest.shape)"
   ]
  },
  {
   "cell_type": "code",
   "execution_count": 60,
   "id": "31b215b2",
   "metadata": {},
   "outputs": [],
   "source": [
    "# reshape input to be [samples, time steps, features] which is required for LSTM\n",
    "X_train = X_train.reshape(X_train.shape[0],X_train.shape[1] , 1)\n",
    "X_test = X_test.reshape(X_test.shape[0],X_test.shape[1] , 1)"
   ]
  },
  {
   "cell_type": "markdown",
   "id": "9500cdc6",
   "metadata": {},
   "source": [
    "## LSTM"
   ]
  },
  {
   "cell_type": "code",
   "execution_count": 63,
   "id": "8c25e974",
   "metadata": {},
   "outputs": [],
   "source": [
    "from tensorflow.keras.models import Sequential\n",
    "from tensorflow.keras.layers import Dense\n",
    "from tensorflow.keras.layers import LSTM"
   ]
  },
  {
   "cell_type": "code",
   "execution_count": 62,
   "id": "159d868b",
   "metadata": {},
   "outputs": [
    {
     "name": "stdout",
     "output_type": "stream",
     "text": [
      "Collecting tensorflow"
     ]
    },
    {
     "name": "stderr",
     "output_type": "stream",
     "text": [
      "\n",
      "[notice] A new release of pip available: 22.2.2 -> 23.0\n",
      "[notice] To update, run: python.exe -m pip install --upgrade pip\n"
     ]
    },
    {
     "name": "stdout",
     "output_type": "stream",
     "text": [
      "\n",
      "  Downloading tensorflow-2.11.0-cp39-cp39-win_amd64.whl (1.9 kB)\n",
      "Collecting tensorflow-intel==2.11.0\n",
      "  Downloading tensorflow_intel-2.11.0-cp39-cp39-win_amd64.whl (266.3 MB)\n",
      "     ------------------------------------ 266.3/266.3 MB 486.5 kB/s eta 0:00:00\n",
      "Requirement already satisfied: numpy>=1.20 in c:\\users\\pauline\\anaconda3\\lib\\site-packages (from tensorflow-intel==2.11.0->tensorflow) (1.21.5)\n",
      "Requirement already satisfied: h5py>=2.9.0 in c:\\users\\pauline\\anaconda3\\lib\\site-packages (from tensorflow-intel==2.11.0->tensorflow) (3.7.0)\n",
      "Collecting protobuf<3.20,>=3.9.2\n",
      "  Downloading protobuf-3.19.6-cp39-cp39-win_amd64.whl (895 kB)\n",
      "     -------------------------------------- 895.9/895.9 kB 6.3 MB/s eta 0:00:00\n",
      "Collecting libclang>=13.0.0\n",
      "  Downloading libclang-15.0.6.1-py2.py3-none-win_amd64.whl (23.2 MB)\n",
      "     ---------------------------------------- 23.2/23.2 MB 7.4 MB/s eta 0:00:00\n",
      "Collecting tensorboard<2.12,>=2.11\n",
      "  Downloading tensorboard-2.11.2-py3-none-any.whl (6.0 MB)\n",
      "     ---------------------------------------- 6.0/6.0 MB 7.7 MB/s eta 0:00:00\n",
      "Collecting google-pasta>=0.1.1\n",
      "  Using cached google_pasta-0.2.0-py3-none-any.whl (57 kB)\n",
      "Collecting termcolor>=1.1.0\n",
      "  Downloading termcolor-2.2.0-py3-none-any.whl (6.6 kB)\n",
      "Collecting gast<=0.4.0,>=0.2.1\n",
      "  Using cached gast-0.4.0-py3-none-any.whl (9.8 kB)\n",
      "Collecting absl-py>=1.0.0\n",
      "  Downloading absl_py-1.4.0-py3-none-any.whl (126 kB)\n",
      "     -------------------------------------- 126.5/126.5 kB 2.5 MB/s eta 0:00:00\n",
      "Requirement already satisfied: packaging in c:\\users\\pauline\\anaconda3\\lib\\site-packages (from tensorflow-intel==2.11.0->tensorflow) (21.3)\n",
      "Collecting astunparse>=1.6.0\n",
      "  Using cached astunparse-1.6.3-py2.py3-none-any.whl (12 kB)\n",
      "Collecting tensorflow-io-gcs-filesystem>=0.23.1\n",
      "  Downloading tensorflow_io_gcs_filesystem-0.30.0-cp39-cp39-win_amd64.whl (1.5 MB)\n",
      "     ---------------------------------------- 1.5/1.5 MB 8.6 MB/s eta 0:00:00\n",
      "Requirement already satisfied: wrapt>=1.11.0 in c:\\users\\pauline\\anaconda3\\lib\\site-packages (from tensorflow-intel==2.11.0->tensorflow) (1.14.1)\n",
      "Collecting keras<2.12,>=2.11.0\n",
      "  Downloading keras-2.11.0-py2.py3-none-any.whl (1.7 MB)\n",
      "     ---------------------------------------- 1.7/1.7 MB 6.0 MB/s eta 0:00:00\n",
      "Requirement already satisfied: typing-extensions>=3.6.6 in c:\\users\\pauline\\anaconda3\\lib\\site-packages (from tensorflow-intel==2.11.0->tensorflow) (4.3.0)\n",
      "Requirement already satisfied: setuptools in c:\\users\\pauline\\anaconda3\\lib\\site-packages (from tensorflow-intel==2.11.0->tensorflow) (63.4.1)\n",
      "Collecting grpcio<2.0,>=1.24.3\n",
      "  Downloading grpcio-1.51.1-cp39-cp39-win_amd64.whl (3.7 MB)\n",
      "     ---------------------------------------- 3.7/3.7 MB 8.8 MB/s eta 0:00:00\n",
      "Collecting flatbuffers>=2.0\n",
      "  Downloading flatbuffers-23.1.21-py2.py3-none-any.whl (26 kB)\n",
      "Collecting opt-einsum>=2.3.2\n",
      "  Using cached opt_einsum-3.3.0-py3-none-any.whl (65 kB)\n",
      "Collecting tensorflow-estimator<2.12,>=2.11.0\n",
      "  Downloading tensorflow_estimator-2.11.0-py2.py3-none-any.whl (439 kB)\n",
      "     -------------------------------------- 439.2/439.2 kB 6.8 MB/s eta 0:00:00\n",
      "Requirement already satisfied: six>=1.12.0 in c:\\users\\pauline\\anaconda3\\lib\\site-packages (from tensorflow-intel==2.11.0->tensorflow) (1.16.0)\n",
      "Requirement already satisfied: wheel<1.0,>=0.23.0 in c:\\users\\pauline\\anaconda3\\lib\\site-packages (from astunparse>=1.6.0->tensorflow-intel==2.11.0->tensorflow) (0.37.1)\n",
      "Requirement already satisfied: requests<3,>=2.21.0 in c:\\users\\pauline\\anaconda3\\lib\\site-packages (from tensorboard<2.12,>=2.11->tensorflow-intel==2.11.0->tensorflow) (2.28.1)\n",
      "Collecting google-auth<3,>=1.6.3\n",
      "  Downloading google_auth-2.16.0-py2.py3-none-any.whl (177 kB)\n",
      "     -------------------------------------- 177.8/177.8 kB 2.1 MB/s eta 0:00:00\n",
      "Requirement already satisfied: markdown>=2.6.8 in c:\\users\\pauline\\anaconda3\\lib\\site-packages (from tensorboard<2.12,>=2.11->tensorflow-intel==2.11.0->tensorflow) (3.3.4)\n",
      "Collecting tensorboard-data-server<0.7.0,>=0.6.0\n",
      "  Using cached tensorboard_data_server-0.6.1-py3-none-any.whl (2.4 kB)\n",
      "Collecting tensorboard-plugin-wit>=1.6.0\n",
      "  Using cached tensorboard_plugin_wit-1.8.1-py3-none-any.whl (781 kB)\n",
      "Requirement already satisfied: werkzeug>=1.0.1 in c:\\users\\pauline\\anaconda3\\lib\\site-packages (from tensorboard<2.12,>=2.11->tensorflow-intel==2.11.0->tensorflow) (2.0.3)\n",
      "Collecting google-auth-oauthlib<0.5,>=0.4.1\n",
      "  Using cached google_auth_oauthlib-0.4.6-py2.py3-none-any.whl (18 kB)\n",
      "Requirement already satisfied: pyparsing!=3.0.5,>=2.0.2 in c:\\users\\pauline\\anaconda3\\lib\\site-packages (from packaging->tensorflow-intel==2.11.0->tensorflow) (3.0.9)\n",
      "Requirement already satisfied: pyasn1-modules>=0.2.1 in c:\\users\\pauline\\anaconda3\\lib\\site-packages (from google-auth<3,>=1.6.3->tensorboard<2.12,>=2.11->tensorflow-intel==2.11.0->tensorflow) (0.2.8)\n",
      "Collecting rsa<5,>=3.1.4\n",
      "  Downloading rsa-4.9-py3-none-any.whl (34 kB)\n",
      "Collecting cachetools<6.0,>=2.0.0\n",
      "  Downloading cachetools-5.3.0-py3-none-any.whl (9.3 kB)\n",
      "Collecting requests-oauthlib>=0.7.0\n",
      "  Using cached requests_oauthlib-1.3.1-py2.py3-none-any.whl (23 kB)\n",
      "Requirement already satisfied: urllib3<1.27,>=1.21.1 in c:\\users\\pauline\\anaconda3\\lib\\site-packages (from requests<3,>=2.21.0->tensorboard<2.12,>=2.11->tensorflow-intel==2.11.0->tensorflow) (1.26.11)\n",
      "Requirement already satisfied: charset-normalizer<3,>=2 in c:\\users\\pauline\\anaconda3\\lib\\site-packages (from requests<3,>=2.21.0->tensorboard<2.12,>=2.11->tensorflow-intel==2.11.0->tensorflow) (2.0.4)\n",
      "Requirement already satisfied: idna<4,>=2.5 in c:\\users\\pauline\\anaconda3\\lib\\site-packages (from requests<3,>=2.21.0->tensorboard<2.12,>=2.11->tensorflow-intel==2.11.0->tensorflow) (3.3)\n",
      "Requirement already satisfied: certifi>=2017.4.17 in c:\\users\\pauline\\anaconda3\\lib\\site-packages (from requests<3,>=2.21.0->tensorboard<2.12,>=2.11->tensorflow-intel==2.11.0->tensorflow) (2022.9.14)\n",
      "Requirement already satisfied: pyasn1<0.5.0,>=0.4.6 in c:\\users\\pauline\\anaconda3\\lib\\site-packages (from pyasn1-modules>=0.2.1->google-auth<3,>=1.6.3->tensorboard<2.12,>=2.11->tensorflow-intel==2.11.0->tensorflow) (0.4.8)\n",
      "Collecting oauthlib>=3.0.0\n",
      "  Downloading oauthlib-3.2.2-py3-none-any.whl (151 kB)\n",
      "     -------------------------------------- 151.7/151.7 kB 3.0 MB/s eta 0:00:00\n",
      "Installing collected packages: tensorboard-plugin-wit, libclang, flatbuffers, termcolor, tensorflow-io-gcs-filesystem, tensorflow-estimator, tensorboard-data-server, rsa, protobuf, opt-einsum, oauthlib, keras, grpcio, google-pasta, gast, cachetools, astunparse, absl-py, requests-oauthlib, google-auth, google-auth-oauthlib, tensorboard, tensorflow-intel, tensorflow\n",
      "Successfully installed absl-py-1.4.0 astunparse-1.6.3 cachetools-5.3.0 flatbuffers-23.1.21 gast-0.4.0 google-auth-2.16.0 google-auth-oauthlib-0.4.6 google-pasta-0.2.0 grpcio-1.51.1 keras-2.11.0 libclang-15.0.6.1 oauthlib-3.2.2 opt-einsum-3.3.0 protobuf-3.19.6 requests-oauthlib-1.3.1 rsa-4.9 tensorboard-2.11.2 tensorboard-data-server-0.6.1 tensorboard-plugin-wit-1.8.1 tensorflow-2.11.0 tensorflow-estimator-2.11.0 tensorflow-intel-2.11.0 tensorflow-io-gcs-filesystem-0.30.0 termcolor-2.2.0\n"
     ]
    }
   ],
   "source": [
    "!pip install tensorflow"
   ]
  },
  {
   "cell_type": "code",
   "execution_count": 64,
   "id": "27ce44ac",
   "metadata": {},
   "outputs": [],
   "source": [
    "model=Sequential()\n",
    "model.add(LSTM(50,return_sequences=True,input_shape=(100,1)))\n",
    "model.add(LSTM(50,return_sequences=True))\n",
    "model.add(LSTM(50))\n",
    "model.add(Dense(1))\n",
    "model.compile(loss='mean_squared_error',optimizer='adam')"
   ]
  },
  {
   "cell_type": "code",
   "execution_count": 65,
   "id": "9257a87e",
   "metadata": {},
   "outputs": [
    {
     "name": "stdout",
     "output_type": "stream",
     "text": [
      "Model: \"sequential\"\n",
      "_________________________________________________________________\n",
      " Layer (type)                Output Shape              Param #   \n",
      "=================================================================\n",
      " lstm (LSTM)                 (None, 100, 50)           10400     \n",
      "                                                                 \n",
      " lstm_1 (LSTM)               (None, 100, 50)           20200     \n",
      "                                                                 \n",
      " lstm_2 (LSTM)               (None, 50)                20200     \n",
      "                                                                 \n",
      " dense (Dense)               (None, 1)                 51        \n",
      "                                                                 \n",
      "=================================================================\n",
      "Total params: 50,851\n",
      "Trainable params: 50,851\n",
      "Non-trainable params: 0\n",
      "_________________________________________________________________\n"
     ]
    }
   ],
   "source": [
    "model.summary()"
   ]
  },
  {
   "cell_type": "code",
   "execution_count": 66,
   "id": "b3a744e7",
   "metadata": {},
   "outputs": [
    {
     "name": "stdout",
     "output_type": "stream",
     "text": [
      "Epoch 1/100\n",
      "50/50 [==============================] - 45s 593ms/step - loss: 0.0038 - val_loss: 0.0018\n",
      "Epoch 2/100\n",
      "50/50 [==============================] - 26s 522ms/step - loss: 4.5931e-04 - val_loss: 0.0014\n",
      "Epoch 3/100\n",
      "50/50 [==============================] - 26s 527ms/step - loss: 4.0243e-04 - val_loss: 0.0015\n",
      "Epoch 4/100\n",
      "50/50 [==============================] - 27s 531ms/step - loss: 3.7524e-04 - val_loss: 0.0012\n",
      "Epoch 5/100\n",
      "50/50 [==============================] - 26s 526ms/step - loss: 3.3155e-04 - val_loss: 0.0015\n",
      "Epoch 6/100\n",
      "50/50 [==============================] - 26s 523ms/step - loss: 3.0877e-04 - val_loss: 9.0638e-04\n",
      "Epoch 7/100\n",
      "50/50 [==============================] - 26s 527ms/step - loss: 2.8224e-04 - val_loss: 7.9674e-04\n",
      "Epoch 8/100\n",
      "50/50 [==============================] - 26s 530ms/step - loss: 2.4957e-04 - val_loss: 7.2311e-04\n",
      "Epoch 9/100\n",
      "50/50 [==============================] - 28s 562ms/step - loss: 2.3726e-04 - val_loss: 7.7980e-04\n",
      "Epoch 10/100\n",
      "50/50 [==============================] - 26s 530ms/step - loss: 2.2766e-04 - val_loss: 7.3032e-04\n",
      "Epoch 11/100\n",
      "50/50 [==============================] - 27s 545ms/step - loss: 2.0785e-04 - val_loss: 5.9637e-04\n",
      "Epoch 12/100\n",
      "50/50 [==============================] - 26s 515ms/step - loss: 1.9552e-04 - val_loss: 5.5907e-04\n",
      "Epoch 13/100\n",
      "50/50 [==============================] - 26s 518ms/step - loss: 1.9979e-04 - val_loss: 5.5679e-04\n",
      "Epoch 14/100\n",
      "50/50 [==============================] - 27s 548ms/step - loss: 1.8182e-04 - val_loss: 4.8730e-04\n",
      "Epoch 15/100\n",
      "50/50 [==============================] - 27s 547ms/step - loss: 1.6760e-04 - val_loss: 6.8110e-04\n",
      "Epoch 16/100\n",
      "50/50 [==============================] - 26s 513ms/step - loss: 1.5817e-04 - val_loss: 0.0010\n",
      "Epoch 17/100\n",
      "50/50 [==============================] - 27s 551ms/step - loss: 1.4970e-04 - val_loss: 4.5829e-04\n",
      "Epoch 18/100\n",
      "50/50 [==============================] - 27s 539ms/step - loss: 1.4656e-04 - val_loss: 6.1816e-04\n",
      "Epoch 19/100\n",
      "50/50 [==============================] - 27s 537ms/step - loss: 1.6314e-04 - val_loss: 0.0012\n",
      "Epoch 20/100\n",
      "50/50 [==============================] - 26s 531ms/step - loss: 1.9545e-04 - val_loss: 3.6341e-04\n",
      "Epoch 21/100\n",
      "50/50 [==============================] - 27s 532ms/step - loss: 1.3270e-04 - val_loss: 3.5676e-04\n",
      "Epoch 22/100\n",
      "50/50 [==============================] - 27s 542ms/step - loss: 1.2406e-04 - val_loss: 5.2147e-04\n",
      "Epoch 23/100\n",
      "50/50 [==============================] - 27s 536ms/step - loss: 1.4875e-04 - val_loss: 3.8335e-04\n",
      "Epoch 24/100\n",
      "50/50 [==============================] - 27s 536ms/step - loss: 1.2518e-04 - val_loss: 8.7470e-04\n",
      "Epoch 25/100\n",
      "50/50 [==============================] - 27s 535ms/step - loss: 1.1586e-04 - val_loss: 5.9633e-04\n",
      "Epoch 26/100\n",
      "50/50 [==============================] - 27s 537ms/step - loss: 1.1965e-04 - val_loss: 4.7594e-04\n",
      "Epoch 27/100\n",
      "50/50 [==============================] - 31s 618ms/step - loss: 1.1147e-04 - val_loss: 8.4974e-04\n",
      "Epoch 28/100\n",
      "50/50 [==============================] - 27s 541ms/step - loss: 1.2220e-04 - val_loss: 4.8676e-04\n",
      "Epoch 29/100\n",
      "50/50 [==============================] - 28s 564ms/step - loss: 1.0680e-04 - val_loss: 3.0831e-04\n",
      "Epoch 30/100\n",
      "50/50 [==============================] - 29s 571ms/step - loss: 1.0057e-04 - val_loss: 6.9729e-04\n",
      "Epoch 31/100\n",
      "50/50 [==============================] - 29s 585ms/step - loss: 1.0043e-04 - val_loss: 3.3143e-04\n",
      "Epoch 32/100\n",
      "50/50 [==============================] - 27s 533ms/step - loss: 1.0988e-04 - val_loss: 3.0668e-04\n",
      "Epoch 33/100\n",
      "50/50 [==============================] - 28s 556ms/step - loss: 9.3038e-05 - val_loss: 7.7654e-04\n",
      "Epoch 34/100\n",
      "50/50 [==============================] - 28s 552ms/step - loss: 9.2939e-05 - val_loss: 5.8853e-04\n",
      "Epoch 35/100\n",
      "50/50 [==============================] - 28s 553ms/step - loss: 8.8767e-05 - val_loss: 5.2482e-04\n",
      "Epoch 36/100\n",
      "50/50 [==============================] - 28s 561ms/step - loss: 8.6975e-05 - val_loss: 4.6519e-04\n",
      "Epoch 37/100\n",
      "50/50 [==============================] - 27s 539ms/step - loss: 9.2783e-05 - val_loss: 0.0013\n",
      "Epoch 38/100\n",
      "50/50 [==============================] - 27s 531ms/step - loss: 9.2709e-05 - val_loss: 2.8499e-04\n",
      "Epoch 39/100\n",
      "50/50 [==============================] - 27s 536ms/step - loss: 8.7523e-05 - val_loss: 5.8304e-04\n",
      "Epoch 40/100\n",
      "50/50 [==============================] - 27s 539ms/step - loss: 8.3209e-05 - val_loss: 3.2143e-04\n",
      "Epoch 41/100\n",
      "50/50 [==============================] - 27s 536ms/step - loss: 8.7387e-05 - val_loss: 3.0229e-04\n",
      "Epoch 42/100\n",
      "50/50 [==============================] - 27s 538ms/step - loss: 7.9033e-05 - val_loss: 2.6610e-04\n",
      "Epoch 43/100\n",
      "50/50 [==============================] - 27s 541ms/step - loss: 8.5040e-05 - val_loss: 2.7912e-04\n",
      "Epoch 44/100\n",
      "50/50 [==============================] - 27s 536ms/step - loss: 8.4794e-05 - val_loss: 4.7688e-04\n",
      "Epoch 45/100\n",
      "50/50 [==============================] - 27s 540ms/step - loss: 7.8672e-05 - val_loss: 2.6075e-04\n",
      "Epoch 46/100\n",
      "50/50 [==============================] - 27s 545ms/step - loss: 7.6231e-05 - val_loss: 6.6827e-04\n",
      "Epoch 47/100\n",
      "50/50 [==============================] - 27s 542ms/step - loss: 8.1738e-05 - val_loss: 2.7091e-04\n",
      "Epoch 48/100\n",
      "50/50 [==============================] - 27s 538ms/step - loss: 8.9734e-05 - val_loss: 3.0070e-04\n",
      "Epoch 49/100\n",
      "50/50 [==============================] - 27s 540ms/step - loss: 7.1707e-05 - val_loss: 2.5971e-04\n",
      "Epoch 50/100\n",
      "50/50 [==============================] - 27s 540ms/step - loss: 7.1677e-05 - val_loss: 2.6205e-04\n",
      "Epoch 51/100\n",
      "50/50 [==============================] - 27s 543ms/step - loss: 7.9778e-05 - val_loss: 3.0438e-04\n",
      "Epoch 52/100\n",
      "50/50 [==============================] - 27s 542ms/step - loss: 7.3962e-05 - val_loss: 4.0839e-04\n",
      "Epoch 53/100\n",
      "50/50 [==============================] - 27s 544ms/step - loss: 7.9000e-05 - val_loss: 3.2262e-04\n",
      "Epoch 54/100\n",
      "50/50 [==============================] - 27s 549ms/step - loss: 7.0578e-05 - val_loss: 4.2576e-04\n",
      "Epoch 55/100\n",
      "50/50 [==============================] - 27s 548ms/step - loss: 7.0530e-05 - val_loss: 2.7698e-04\n",
      "Epoch 56/100\n",
      "50/50 [==============================] - 27s 546ms/step - loss: 7.2914e-05 - val_loss: 5.7434e-04\n",
      "Epoch 57/100\n",
      "50/50 [==============================] - 27s 542ms/step - loss: 7.4252e-05 - val_loss: 2.8847e-04\n",
      "Epoch 58/100\n",
      "50/50 [==============================] - 27s 544ms/step - loss: 7.5041e-05 - val_loss: 3.6588e-04\n",
      "Epoch 59/100\n",
      "50/50 [==============================] - 27s 544ms/step - loss: 6.8209e-05 - val_loss: 2.9366e-04\n",
      "Epoch 60/100\n",
      "50/50 [==============================] - 27s 541ms/step - loss: 7.1655e-05 - val_loss: 3.4206e-04\n",
      "Epoch 61/100\n",
      "50/50 [==============================] - 27s 544ms/step - loss: 6.8528e-05 - val_loss: 3.0113e-04\n",
      "Epoch 62/100\n",
      "50/50 [==============================] - 27s 545ms/step - loss: 7.0250e-05 - val_loss: 4.4937e-04\n",
      "Epoch 63/100\n",
      "50/50 [==============================] - 27s 544ms/step - loss: 7.2399e-05 - val_loss: 3.3488e-04\n",
      "Epoch 64/100\n",
      "50/50 [==============================] - 27s 546ms/step - loss: 7.7967e-05 - val_loss: 3.0162e-04\n",
      "Epoch 65/100\n",
      "50/50 [==============================] - 27s 541ms/step - loss: 6.7268e-05 - val_loss: 2.9958e-04\n",
      "Epoch 66/100\n",
      "50/50 [==============================] - 27s 546ms/step - loss: 7.1389e-05 - val_loss: 3.0515e-04\n",
      "Epoch 67/100\n",
      "50/50 [==============================] - 27s 543ms/step - loss: 7.0366e-05 - val_loss: 5.9627e-04\n",
      "Epoch 68/100\n",
      "50/50 [==============================] - 28s 554ms/step - loss: 6.7080e-05 - val_loss: 5.1204e-04\n",
      "Epoch 69/100\n",
      "50/50 [==============================] - 26s 525ms/step - loss: 7.1037e-05 - val_loss: 3.1537e-04\n",
      "Epoch 70/100\n",
      "50/50 [==============================] - 28s 557ms/step - loss: 7.3963e-05 - val_loss: 3.9723e-04\n",
      "Epoch 71/100\n",
      "50/50 [==============================] - 27s 550ms/step - loss: 8.0678e-05 - val_loss: 5.2559e-04\n",
      "Epoch 72/100\n",
      "50/50 [==============================] - 27s 543ms/step - loss: 7.3257e-05 - val_loss: 5.5819e-04\n",
      "Epoch 73/100\n",
      "50/50 [==============================] - 27s 549ms/step - loss: 7.0306e-05 - val_loss: 5.5312e-04\n",
      "Epoch 74/100\n",
      "50/50 [==============================] - 27s 544ms/step - loss: 6.6559e-05 - val_loss: 4.8709e-04\n",
      "Epoch 75/100\n"
     ]
    },
    {
     "name": "stdout",
     "output_type": "stream",
     "text": [
      "50/50 [==============================] - 27s 535ms/step - loss: 6.7310e-05 - val_loss: 6.1380e-04\n",
      "Epoch 76/100\n",
      "50/50 [==============================] - 27s 536ms/step - loss: 7.5973e-05 - val_loss: 4.5351e-04\n",
      "Epoch 77/100\n",
      "50/50 [==============================] - 26s 530ms/step - loss: 7.2201e-05 - val_loss: 0.0012\n",
      "Epoch 78/100\n",
      "50/50 [==============================] - 27s 534ms/step - loss: 7.4676e-05 - val_loss: 0.0011\n",
      "Epoch 79/100\n",
      "50/50 [==============================] - 27s 532ms/step - loss: 8.0357e-05 - val_loss: 3.3582e-04\n",
      "Epoch 80/100\n",
      "50/50 [==============================] - 26s 530ms/step - loss: 6.6833e-05 - val_loss: 5.6537e-04\n",
      "Epoch 81/100\n",
      "50/50 [==============================] - 27s 535ms/step - loss: 7.0464e-05 - val_loss: 5.3097e-04\n",
      "Epoch 82/100\n",
      "50/50 [==============================] - 27s 535ms/step - loss: 6.8203e-05 - val_loss: 0.0010\n",
      "Epoch 83/100\n",
      "50/50 [==============================] - 26s 529ms/step - loss: 6.8728e-05 - val_loss: 0.0010\n",
      "Epoch 84/100\n",
      "50/50 [==============================] - 27s 535ms/step - loss: 6.9326e-05 - val_loss: 7.4556e-04\n",
      "Epoch 85/100\n",
      "50/50 [==============================] - 27s 537ms/step - loss: 6.6138e-05 - val_loss: 0.0014\n",
      "Epoch 86/100\n",
      "50/50 [==============================] - 27s 542ms/step - loss: 8.3245e-05 - val_loss: 7.2191e-04\n",
      "Epoch 87/100\n",
      "50/50 [==============================] - 27s 537ms/step - loss: 6.6874e-05 - val_loss: 0.0011\n",
      "Epoch 88/100\n",
      "50/50 [==============================] - 26s 528ms/step - loss: 7.0067e-05 - val_loss: 5.0845e-04\n",
      "Epoch 89/100\n",
      "50/50 [==============================] - 26s 525ms/step - loss: 7.1057e-05 - val_loss: 0.0010\n",
      "Epoch 90/100\n",
      "50/50 [==============================] - 26s 531ms/step - loss: 6.8163e-05 - val_loss: 0.0011\n",
      "Epoch 91/100\n",
      "50/50 [==============================] - 26s 529ms/step - loss: 7.2786e-05 - val_loss: 7.7120e-04\n",
      "Epoch 92/100\n",
      "50/50 [==============================] - 26s 527ms/step - loss: 7.0449e-05 - val_loss: 0.0013\n",
      "Epoch 93/100\n",
      "50/50 [==============================] - 26s 519ms/step - loss: 7.5440e-05 - val_loss: 4.8016e-04\n",
      "Epoch 94/100\n",
      "50/50 [==============================] - 26s 513ms/step - loss: 7.1695e-05 - val_loss: 4.1186e-04\n",
      "Epoch 95/100\n",
      "50/50 [==============================] - 26s 525ms/step - loss: 7.4476e-05 - val_loss: 7.7550e-04\n",
      "Epoch 96/100\n",
      "50/50 [==============================] - 27s 545ms/step - loss: 6.7439e-05 - val_loss: 0.0010\n",
      "Epoch 97/100\n",
      "50/50 [==============================] - 26s 522ms/step - loss: 6.9809e-05 - val_loss: 9.7152e-04\n",
      "Epoch 98/100\n",
      "50/50 [==============================] - 26s 522ms/step - loss: 6.8332e-05 - val_loss: 0.0011\n",
      "Epoch 99/100\n",
      "50/50 [==============================] - 26s 531ms/step - loss: 7.0819e-05 - val_loss: 0.0014\n",
      "Epoch 100/100\n",
      "50/50 [==============================] - 26s 531ms/step - loss: 6.7757e-05 - val_loss: 9.9756e-04\n"
     ]
    },
    {
     "data": {
      "text/plain": [
       "<keras.callbacks.History at 0x80586f6790>"
      ]
     },
     "execution_count": 66,
     "metadata": {},
     "output_type": "execute_result"
    }
   ],
   "source": [
    "model.fit(X_train,y_train,validation_data=(X_test,ytest),epochs=100,batch_size=64,verbose=1)"
   ]
  },
  {
   "cell_type": "markdown",
   "id": "dde3ed32",
   "metadata": {},
   "source": [
    "### Prediction and Performance Evaluation"
   ]
  },
  {
   "cell_type": "code",
   "execution_count": 67,
   "id": "13a3a913",
   "metadata": {},
   "outputs": [
    {
     "name": "stdout",
     "output_type": "stream",
     "text": [
      "100/100 [==============================] - 24s 166ms/step\n",
      "52/52 [==============================] - 9s 180ms/step\n"
     ]
    }
   ],
   "source": [
    "train_predict=model.predict(X_train)\n",
    "test_predict=model.predict(X_test)"
   ]
  },
  {
   "cell_type": "code",
   "execution_count": 68,
   "id": "6f9f0dbe",
   "metadata": {},
   "outputs": [],
   "source": [
    "##Transformback to original form\n",
    "train_predict=scaler.inverse_transform(train_predict)\n",
    "test_predict=scaler.inverse_transform(test_predict)"
   ]
  },
  {
   "cell_type": "code",
   "execution_count": 70,
   "id": "245b7fde",
   "metadata": {},
   "outputs": [
    {
     "data": {
      "text/plain": [
       "501.4793056745702"
      ]
     },
     "execution_count": 70,
     "metadata": {},
     "output_type": "execute_result"
    }
   ],
   "source": [
    "import math\n",
    "from sklearn.metrics import mean_squared_error\n",
    "mean_squared_error(y_train,train_predict)"
   ]
  },
  {
   "cell_type": "code",
   "execution_count": 71,
   "id": "660dae8b",
   "metadata": {},
   "outputs": [
    {
     "data": {
      "text/plain": [
       "22.393733625158852"
      ]
     },
     "execution_count": 71,
     "metadata": {},
     "output_type": "execute_result"
    }
   ],
   "source": [
    "math.sqrt(mean_squared_error(y_train,train_predict))"
   ]
  },
  {
   "cell_type": "code",
   "execution_count": 72,
   "id": "87445f97",
   "metadata": {},
   "outputs": [
    {
     "data": {
      "text/plain": [
       "43.255363350846025"
      ]
     },
     "execution_count": 72,
     "metadata": {},
     "output_type": "execute_result"
    }
   ],
   "source": [
    "### Test Data RMSE\n",
    "math.sqrt(mean_squared_error(ytest,test_predict))"
   ]
  },
  {
   "cell_type": "code",
   "execution_count": 75,
   "id": "21ec1472",
   "metadata": {},
   "outputs": [
    {
     "data": {
      "image/png": "[encoded data removed]",
      "text/plain": [
       "<Figure size 640x480 with 1 Axes>"
      ]
     },
     "metadata": {},
     "output_type": "display_data"
    }
   ],
   "source": [
    "import numpy as np\n",
    "### Plotting \n",
    "# shift train predictions for plotting\n",
    "look_back=100\n",
    "trainPredictPlot = np.empty_like(df1)\n",
    "trainPredictPlot[:, :] = np.nan\n",
    "trainPredictPlot[look_back:len(train_predict)+look_back, :] = train_predict\n",
    "# shift test predictions for plotting\n",
    "testPredictPlot = np.empty_like(df1)\n",
    "testPredictPlot[:, :] = np.nan\n",
    "testPredictPlot[len(train_predict)+(look_back*2)+1:len(df1)-1, :] = test_predict\n",
    "# plot baseline and predictions\n",
    "plt.plot(scaler.inverse_transform(df1))\n",
    "plt.plot(trainPredictPlot)\n",
    "plt.plot(testPredictPlot)\n",
    "plt.show()"
   ]
  },
  {
   "cell_type": "markdown",
   "id": "4dcbca35",
   "metadata": {},
   "source": [
    "### Future Prediction"
   ]
  },
  {
   "cell_type": "code",
   "execution_count": 76,
   "id": "99f6d15a",
   "metadata": {},
   "outputs": [
    {
     "data": {
      "text/plain": [
       "1762"
      ]
     },
     "execution_count": 76,
     "metadata": {},
     "output_type": "execute_result"
    }
   ],
   "source": [
    "len(test_data)"
   ]
  },
  {
   "cell_type": "code",
   "execution_count": 78,
   "id": "190708cc",
   "metadata": {},
   "outputs": [
    {
     "data": {
      "text/plain": [
       "(1, 100)"
      ]
     },
     "execution_count": 78,
     "metadata": {},
     "output_type": "execute_result"
    }
   ],
   "source": [
    "x_input=test_data[1662:].reshape(1,-1)\n",
    "x_input.shape"
   ]
  },
  {
   "cell_type": "code",
   "execution_count": 79,
   "id": "c5dc1f26",
   "metadata": {},
   "outputs": [],
   "source": [
    "temp_input=list(x_input)\n",
    "temp_input=temp_input[0].tolist()"
   ]
  },
  {
   "cell_type": "code",
   "execution_count": 80,
   "id": "f3a77851",
   "metadata": {},
   "outputs": [
    {
     "name": "stdout",
     "output_type": "stream",
     "text": [
      "[0.6649243]\n",
      "101\n",
      "1 day input [0.63740978 0.64521165 0.65749956 0.61283404 0.60990832 0.59684029\n",
      " 0.5970353  0.5970353  0.58299205 0.56368248 0.55510049 0.54554321\n",
      " 0.54398289 0.54281258 0.55880634 0.5437878  0.53267019 0.55783112\n",
      " 0.56816853 0.57148435 0.56231717 0.53793644 0.53052467 0.5244783\n",
      " 0.51843185 0.544568   0.53657112 0.55802613 0.56758341 0.56933883\n",
      " 0.56602301 0.58728301 0.60171644 0.61771019 0.61810029 0.61888042\n",
      " 0.64267603 0.63858009 0.6391652  0.62180613 0.60776281 0.62083092\n",
      " 0.62141603 0.62258633 0.60893311 0.64306613 0.62609716 0.62512195\n",
      " 0.62824268 0.6182953  0.6612054  0.68461092 0.6812951  0.69611862\n",
      " 0.69982447 0.69650872 0.69026726 0.69416812 0.72225477 0.72713091\n",
      " 0.72186467 0.71464799 0.70021457 0.69221769 0.70801643 0.69767895\n",
      " 0.7140628  0.72069437 0.7140628  0.69163258 0.68500102 0.67700414\n",
      " 0.67641895 0.6820753  0.67544374 0.67856447 0.67953968 0.67056759\n",
      " 0.67895457 0.6816852  0.68753656 0.67992978 0.66686175 0.69494832\n",
      " 0.70001956 0.7045056  0.71230739 0.70821144 0.70587092 0.69026726\n",
      " 0.66725185 0.65866978 0.66491124 0.67895457 0.68500102 0.68831676\n",
      " 0.69533842 0.69865417 0.69299789 0.66492432]\n",
      "1 day output [[0.63821185]]\n",
      "2 day input [0.64521165 0.65749956 0.61283404 0.60990832 0.59684029 0.5970353\n",
      " 0.5970353  0.58299205 0.56368248 0.55510049 0.54554321 0.54398289\n",
      " 0.54281258 0.55880634 0.5437878  0.53267019 0.55783112 0.56816853\n",
      " 0.57148435 0.56231717 0.53793644 0.53052467 0.5244783  0.51843185\n",
      " 0.544568   0.53657112 0.55802613 0.56758341 0.56933883 0.56602301\n",
      " 0.58728301 0.60171644 0.61771019 0.61810029 0.61888042 0.64267603\n",
      " 0.63858009 0.6391652  0.62180613 0.60776281 0.62083092 0.62141603\n",
      " 0.62258633 0.60893311 0.64306613 0.62609716 0.62512195 0.62824268\n",
      " 0.6182953  0.6612054  0.68461092 0.6812951  0.69611862 0.69982447\n",
      " 0.69650872 0.69026726 0.69416812 0.72225477 0.72713091 0.72186467\n",
      " 0.71464799 0.70021457 0.69221769 0.70801643 0.69767895 0.7140628\n",
      " 0.72069437 0.7140628  0.69163258 0.68500102 0.67700414 0.67641895\n",
      " 0.6820753  0.67544374 0.67856447 0.67953968 0.67056759 0.67895457\n",
      " 0.6816852  0.68753656 0.67992978 0.66686175 0.69494832 0.70001956\n",
      " 0.7045056  0.71230739 0.70821144 0.70587092 0.69026726 0.66725185\n",
      " 0.65866978 0.66491124 0.67895457 0.68500102 0.68831676 0.69533842\n",
      " 0.69865417 0.69299789 0.66492432 0.63821185]\n",
      "2 day output [[0.6242343]]\n",
      "3 day input [0.65749956 0.61283404 0.60990832 0.59684029 0.5970353  0.5970353\n",
      " 0.58299205 0.56368248 0.55510049 0.54554321 0.54398289 0.54281258\n",
      " 0.55880634 0.5437878  0.53267019 0.55783112 0.56816853 0.57148435\n",
      " 0.56231717 0.53793644 0.53052467 0.5244783  0.51843185 0.544568\n",
      " 0.53657112 0.55802613 0.56758341 0.56933883 0.56602301 0.58728301\n",
      " 0.60171644 0.61771019 0.61810029 0.61888042 0.64267603 0.63858009\n",
      " 0.6391652  0.62180613 0.60776281 0.62083092 0.62141603 0.62258633\n",
      " 0.60893311 0.64306613 0.62609716 0.62512195 0.62824268 0.6182953\n",
      " 0.6612054  0.68461092 0.6812951  0.69611862 0.69982447 0.69650872\n",
      " 0.69026726 0.69416812 0.72225477 0.72713091 0.72186467 0.71464799\n",
      " 0.70021457 0.69221769 0.70801643 0.69767895 0.7140628  0.72069437\n",
      " 0.7140628  0.69163258 0.68500102 0.67700414 0.67641895 0.6820753\n",
      " 0.67544374 0.67856447 0.67953968 0.67056759 0.67895457 0.6816852\n",
      " 0.68753656 0.67992978 0.66686175 0.69494832 0.70001956 0.7045056\n",
      " 0.71230739 0.70821144 0.70587092 0.69026726 0.66725185 0.65866978\n",
      " 0.66491124 0.67895457 0.68500102 0.68831676 0.69533842 0.69865417\n",
      " 0.69299789 0.66492432 0.63821185 0.62423432]\n",
      "3 day output [[0.6147521]]\n",
      "4 day input [0.61283404 0.60990832 0.59684029 0.5970353  0.5970353  0.58299205\n",
      " 0.56368248 0.55510049 0.54554321 0.54398289 0.54281258 0.55880634\n",
      " 0.5437878  0.53267019 0.55783112 0.56816853 0.57148435 0.56231717\n",
      " 0.53793644 0.53052467 0.5244783  0.51843185 0.544568   0.53657112\n",
      " 0.55802613 0.56758341 0.56933883 0.56602301 0.58728301 0.60171644\n",
      " 0.61771019 0.61810029 0.61888042 0.64267603 0.63858009 0.6391652\n",
      " 0.62180613 0.60776281 0.62083092 0.62141603 0.62258633 0.60893311\n",
      " 0.64306613 0.62609716 0.62512195 0.62824268 0.6182953  0.6612054\n",
      " 0.68461092 0.6812951  0.69611862 0.69982447 0.69650872 0.69026726\n",
      " 0.69416812 0.72225477 0.72713091 0.72186467 0.71464799 0.70021457\n",
      " 0.69221769 0.70801643 0.69767895 0.7140628  0.72069437 0.7140628\n",
      " 0.69163258 0.68500102 0.67700414 0.67641895 0.6820753  0.67544374\n",
      " 0.67856447 0.67953968 0.67056759 0.67895457 0.6816852  0.68753656\n",
      " 0.67992978 0.66686175 0.69494832 0.70001956 0.7045056  0.71230739\n",
      " 0.70821144 0.70587092 0.69026726 0.66725185 0.65866978 0.66491124\n",
      " 0.67895457 0.68500102 0.68831676 0.69533842 0.69865417 0.69299789\n",
      " 0.66492432 0.63821185 0.62423432 0.61475211]\n",
      "4 day output [[0.60530096]]\n",
      "5 day input [0.60990832 0.59684029 0.5970353  0.5970353  0.58299205 0.56368248\n",
      " 0.55510049 0.54554321 0.54398289 0.54281258 0.55880634 0.5437878\n",
      " 0.53267019 0.55783112 0.56816853 0.57148435 0.56231717 0.53793644\n",
      " 0.53052467 0.5244783  0.51843185 0.544568   0.53657112 0.55802613\n",
      " 0.56758341 0.56933883 0.56602301 0.58728301 0.60171644 0.61771019\n",
      " 0.61810029 0.61888042 0.64267603 0.63858009 0.6391652  0.62180613\n",
      " 0.60776281 0.62083092 0.62141603 0.62258633 0.60893311 0.64306613\n",
      " 0.62609716 0.62512195 0.62824268 0.6182953  0.6612054  0.68461092\n",
      " 0.6812951  0.69611862 0.69982447 0.69650872 0.69026726 0.69416812\n",
      " 0.72225477 0.72713091 0.72186467 0.71464799 0.70021457 0.69221769\n",
      " 0.70801643 0.69767895 0.7140628  0.72069437 0.7140628  0.69163258\n",
      " 0.68500102 0.67700414 0.67641895 0.6820753  0.67544374 0.67856447\n",
      " 0.67953968 0.67056759 0.67895457 0.6816852  0.68753656 0.67992978\n",
      " 0.66686175 0.69494832 0.70001956 0.7045056  0.71230739 0.70821144\n",
      " 0.70587092 0.69026726 0.66725185 0.65866978 0.66491124 0.67895457\n",
      " 0.68500102 0.68831676 0.69533842 0.69865417 0.69299789 0.66492432\n",
      " 0.63821185 0.62423432 0.61475211 0.60530096]\n",
      "5 day output [[0.5958422]]\n",
      "6 day input [0.59684029 0.5970353  0.5970353  0.58299205 0.56368248 0.55510049\n",
      " 0.54554321 0.54398289 0.54281258 0.55880634 0.5437878  0.53267019\n",
      " 0.55783112 0.56816853 0.57148435 0.56231717 0.53793644 0.53052467\n",
      " 0.5244783  0.51843185 0.544568   0.53657112 0.55802613 0.56758341\n",
      " 0.56933883 0.56602301 0.58728301 0.60171644 0.61771019 0.61810029\n",
      " 0.61888042 0.64267603 0.63858009 0.6391652  0.62180613 0.60776281\n",
      " 0.62083092 0.62141603 0.62258633 0.60893311 0.64306613 0.62609716\n",
      " 0.62512195 0.62824268 0.6182953  0.6612054  0.68461092 0.6812951\n",
      " 0.69611862 0.69982447 0.69650872 0.69026726 0.69416812 0.72225477\n",
      " 0.72713091 0.72186467 0.71464799 0.70021457 0.69221769 0.70801643\n",
      " 0.69767895 0.7140628  0.72069437 0.7140628  0.69163258 0.68500102\n",
      " 0.67700414 0.67641895 0.6820753  0.67544374 0.67856447 0.67953968\n",
      " 0.67056759 0.67895457 0.6816852  0.68753656 0.67992978 0.66686175\n",
      " 0.69494832 0.70001956 0.7045056  0.71230739 0.70821144 0.70587092\n",
      " 0.69026726 0.66725185 0.65866978 0.66491124 0.67895457 0.68500102\n",
      " 0.68831676 0.69533842 0.69865417 0.69299789 0.66492432 0.63821185\n",
      " 0.62423432 0.61475211 0.60530096 0.59584218]\n",
      "6 day output [[0.5868434]]\n",
      "7 day input [0.5970353  0.5970353  0.58299205 0.56368248 0.55510049 0.54554321\n",
      " 0.54398289 0.54281258 0.55880634 0.5437878  0.53267019 0.55783112\n",
      " 0.56816853 0.57148435 0.56231717 0.53793644 0.53052467 0.5244783\n",
      " 0.51843185 0.544568   0.53657112 0.55802613 0.56758341 0.56933883\n",
      " 0.56602301 0.58728301 0.60171644 0.61771019 0.61810029 0.61888042\n",
      " 0.64267603 0.63858009 0.6391652  0.62180613 0.60776281 0.62083092\n",
      " 0.62141603 0.62258633 0.60893311 0.64306613 0.62609716 0.62512195\n",
      " 0.62824268 0.6182953  0.6612054  0.68461092 0.6812951  0.69611862\n",
      " 0.69982447 0.69650872 0.69026726 0.69416812 0.72225477 0.72713091\n",
      " 0.72186467 0.71464799 0.70021457 0.69221769 0.70801643 0.69767895\n",
      " 0.7140628  0.72069437 0.7140628  0.69163258 0.68500102 0.67700414\n",
      " 0.67641895 0.6820753  0.67544374 0.67856447 0.67953968 0.67056759\n",
      " 0.67895457 0.6816852  0.68753656 0.67992978 0.66686175 0.69494832\n",
      " 0.70001956 0.7045056  0.71230739 0.70821144 0.70587092 0.69026726\n",
      " 0.66725185 0.65866978 0.66491124 0.67895457 0.68500102 0.68831676\n",
      " 0.69533842 0.69865417 0.69299789 0.66492432 0.63821185 0.62423432\n",
      " 0.61475211 0.60530096 0.59584218 0.58684337]\n",
      "7 day output [[0.5783813]]\n",
      "8 day input [0.5970353  0.58299205 0.56368248 0.55510049 0.54554321 0.54398289\n",
      " 0.54281258 0.55880634 0.5437878  0.53267019 0.55783112 0.56816853\n",
      " 0.57148435 0.56231717 0.53793644 0.53052467 0.5244783  0.51843185\n",
      " 0.544568   0.53657112 0.55802613 0.56758341 0.56933883 0.56602301\n",
      " 0.58728301 0.60171644 0.61771019 0.61810029 0.61888042 0.64267603\n",
      " 0.63858009 0.6391652  0.62180613 0.60776281 0.62083092 0.62141603\n",
      " 0.62258633 0.60893311 0.64306613 0.62609716 0.62512195 0.62824268\n",
      " 0.6182953  0.6612054  0.68461092 0.6812951  0.69611862 0.69982447\n",
      " 0.69650872 0.69026726 0.69416812 0.72225477 0.72713091 0.72186467\n",
      " 0.71464799 0.70021457 0.69221769 0.70801643 0.69767895 0.7140628\n",
      " 0.72069437 0.7140628  0.69163258 0.68500102 0.67700414 0.67641895\n",
      " 0.6820753  0.67544374 0.67856447 0.67953968 0.67056759 0.67895457\n",
      " 0.6816852  0.68753656 0.67992978 0.66686175 0.69494832 0.70001956\n",
      " 0.7045056  0.71230739 0.70821144 0.70587092 0.69026726 0.66725185\n",
      " 0.65866978 0.66491124 0.67895457 0.68500102 0.68831676 0.69533842\n",
      " 0.69865417 0.69299789 0.66492432 0.63821185 0.62423432 0.61475211\n",
      " 0.60530096 0.59584218 0.58684337 0.5783813 ]\n"
     ]
    },
    {
     "name": "stdout",
     "output_type": "stream",
     "text": [
      "8 day output [[0.5703707]]\n",
      "9 day input [0.58299205 0.56368248 0.55510049 0.54554321 0.54398289 0.54281258\n",
      " 0.55880634 0.5437878  0.53267019 0.55783112 0.56816853 0.57148435\n",
      " 0.56231717 0.53793644 0.53052467 0.5244783  0.51843185 0.544568\n",
      " 0.53657112 0.55802613 0.56758341 0.56933883 0.56602301 0.58728301\n",
      " 0.60171644 0.61771019 0.61810029 0.61888042 0.64267603 0.63858009\n",
      " 0.6391652  0.62180613 0.60776281 0.62083092 0.62141603 0.62258633\n",
      " 0.60893311 0.64306613 0.62609716 0.62512195 0.62824268 0.6182953\n",
      " 0.6612054  0.68461092 0.6812951  0.69611862 0.69982447 0.69650872\n",
      " 0.69026726 0.69416812 0.72225477 0.72713091 0.72186467 0.71464799\n",
      " 0.70021457 0.69221769 0.70801643 0.69767895 0.7140628  0.72069437\n",
      " 0.7140628  0.69163258 0.68500102 0.67700414 0.67641895 0.6820753\n",
      " 0.67544374 0.67856447 0.67953968 0.67056759 0.67895457 0.6816852\n",
      " 0.68753656 0.67992978 0.66686175 0.69494832 0.70001956 0.7045056\n",
      " 0.71230739 0.70821144 0.70587092 0.69026726 0.66725185 0.65866978\n",
      " 0.66491124 0.67895457 0.68500102 0.68831676 0.69533842 0.69865417\n",
      " 0.69299789 0.66492432 0.63821185 0.62423432 0.61475211 0.60530096\n",
      " 0.59584218 0.58684337 0.5783813  0.57037067]\n",
      "9 day output [[0.56274337]]\n",
      "10 day input [0.56368248 0.55510049 0.54554321 0.54398289 0.54281258 0.55880634\n",
      " 0.5437878  0.53267019 0.55783112 0.56816853 0.57148435 0.56231717\n",
      " 0.53793644 0.53052467 0.5244783  0.51843185 0.544568   0.53657112\n",
      " 0.55802613 0.56758341 0.56933883 0.56602301 0.58728301 0.60171644\n",
      " 0.61771019 0.61810029 0.61888042 0.64267603 0.63858009 0.6391652\n",
      " 0.62180613 0.60776281 0.62083092 0.62141603 0.62258633 0.60893311\n",
      " 0.64306613 0.62609716 0.62512195 0.62824268 0.6182953  0.6612054\n",
      " 0.68461092 0.6812951  0.69611862 0.69982447 0.69650872 0.69026726\n",
      " 0.69416812 0.72225477 0.72713091 0.72186467 0.71464799 0.70021457\n",
      " 0.69221769 0.70801643 0.69767895 0.7140628  0.72069437 0.7140628\n",
      " 0.69163258 0.68500102 0.67700414 0.67641895 0.6820753  0.67544374\n",
      " 0.67856447 0.67953968 0.67056759 0.67895457 0.6816852  0.68753656\n",
      " 0.67992978 0.66686175 0.69494832 0.70001956 0.7045056  0.71230739\n",
      " 0.70821144 0.70587092 0.69026726 0.66725185 0.65866978 0.66491124\n",
      " 0.67895457 0.68500102 0.68831676 0.69533842 0.69865417 0.69299789\n",
      " 0.66492432 0.63821185 0.62423432 0.61475211 0.60530096 0.59584218\n",
      " 0.58684337 0.5783813  0.57037067 0.56274337]\n",
      "10 day output [[0.55546635]]\n",
      "11 day input [0.55510049 0.54554321 0.54398289 0.54281258 0.55880634 0.5437878\n",
      " 0.53267019 0.55783112 0.56816853 0.57148435 0.56231717 0.53793644\n",
      " 0.53052467 0.5244783  0.51843185 0.544568   0.53657112 0.55802613\n",
      " 0.56758341 0.56933883 0.56602301 0.58728301 0.60171644 0.61771019\n",
      " 0.61810029 0.61888042 0.64267603 0.63858009 0.6391652  0.62180613\n",
      " 0.60776281 0.62083092 0.62141603 0.62258633 0.60893311 0.64306613\n",
      " 0.62609716 0.62512195 0.62824268 0.6182953  0.6612054  0.68461092\n",
      " 0.6812951  0.69611862 0.69982447 0.69650872 0.69026726 0.69416812\n",
      " 0.72225477 0.72713091 0.72186467 0.71464799 0.70021457 0.69221769\n",
      " 0.70801643 0.69767895 0.7140628  0.72069437 0.7140628  0.69163258\n",
      " 0.68500102 0.67700414 0.67641895 0.6820753  0.67544374 0.67856447\n",
      " 0.67953968 0.67056759 0.67895457 0.6816852  0.68753656 0.67992978\n",
      " 0.66686175 0.69494832 0.70001956 0.7045056  0.71230739 0.70821144\n",
      " 0.70587092 0.69026726 0.66725185 0.65866978 0.66491124 0.67895457\n",
      " 0.68500102 0.68831676 0.69533842 0.69865417 0.69299789 0.66492432\n",
      " 0.63821185 0.62423432 0.61475211 0.60530096 0.59584218 0.58684337\n",
      " 0.5783813  0.57037067 0.56274337 0.55546635]\n",
      "11 day output [[0.54852045]]\n",
      "12 day input [0.54554321 0.54398289 0.54281258 0.55880634 0.5437878  0.53267019\n",
      " 0.55783112 0.56816853 0.57148435 0.56231717 0.53793644 0.53052467\n",
      " 0.5244783  0.51843185 0.544568   0.53657112 0.55802613 0.56758341\n",
      " 0.56933883 0.56602301 0.58728301 0.60171644 0.61771019 0.61810029\n",
      " 0.61888042 0.64267603 0.63858009 0.6391652  0.62180613 0.60776281\n",
      " 0.62083092 0.62141603 0.62258633 0.60893311 0.64306613 0.62609716\n",
      " 0.62512195 0.62824268 0.6182953  0.6612054  0.68461092 0.6812951\n",
      " 0.69611862 0.69982447 0.69650872 0.69026726 0.69416812 0.72225477\n",
      " 0.72713091 0.72186467 0.71464799 0.70021457 0.69221769 0.70801643\n",
      " 0.69767895 0.7140628  0.72069437 0.7140628  0.69163258 0.68500102\n",
      " 0.67700414 0.67641895 0.6820753  0.67544374 0.67856447 0.67953968\n",
      " 0.67056759 0.67895457 0.6816852  0.68753656 0.67992978 0.66686175\n",
      " 0.69494832 0.70001956 0.7045056  0.71230739 0.70821144 0.70587092\n",
      " 0.69026726 0.66725185 0.65866978 0.66491124 0.67895457 0.68500102\n",
      " 0.68831676 0.69533842 0.69865417 0.69299789 0.66492432 0.63821185\n",
      " 0.62423432 0.61475211 0.60530096 0.59584218 0.58684337 0.5783813\n",
      " 0.57037067 0.56274337 0.55546635 0.54852045]\n",
      "12 day output [[0.5418912]]\n",
      "13 day input [0.54398289 0.54281258 0.55880634 0.5437878  0.53267019 0.55783112\n",
      " 0.56816853 0.57148435 0.56231717 0.53793644 0.53052467 0.5244783\n",
      " 0.51843185 0.544568   0.53657112 0.55802613 0.56758341 0.56933883\n",
      " 0.56602301 0.58728301 0.60171644 0.61771019 0.61810029 0.61888042\n",
      " 0.64267603 0.63858009 0.6391652  0.62180613 0.60776281 0.62083092\n",
      " 0.62141603 0.62258633 0.60893311 0.64306613 0.62609716 0.62512195\n",
      " 0.62824268 0.6182953  0.6612054  0.68461092 0.6812951  0.69611862\n",
      " 0.69982447 0.69650872 0.69026726 0.69416812 0.72225477 0.72713091\n",
      " 0.72186467 0.71464799 0.70021457 0.69221769 0.70801643 0.69767895\n",
      " 0.7140628  0.72069437 0.7140628  0.69163258 0.68500102 0.67700414\n",
      " 0.67641895 0.6820753  0.67544374 0.67856447 0.67953968 0.67056759\n",
      " 0.67895457 0.6816852  0.68753656 0.67992978 0.66686175 0.69494832\n",
      " 0.70001956 0.7045056  0.71230739 0.70821144 0.70587092 0.69026726\n",
      " 0.66725185 0.65866978 0.66491124 0.67895457 0.68500102 0.68831676\n",
      " 0.69533842 0.69865417 0.69299789 0.66492432 0.63821185 0.62423432\n",
      " 0.61475211 0.60530096 0.59584218 0.58684337 0.5783813  0.57037067\n",
      " 0.56274337 0.55546635 0.54852045 0.54189122]\n",
      "13 day output [[0.5355653]]\n",
      "14 day input [0.54281258 0.55880634 0.5437878  0.53267019 0.55783112 0.56816853\n",
      " 0.57148435 0.56231717 0.53793644 0.53052467 0.5244783  0.51843185\n",
      " 0.544568   0.53657112 0.55802613 0.56758341 0.56933883 0.56602301\n",
      " 0.58728301 0.60171644 0.61771019 0.61810029 0.61888042 0.64267603\n",
      " 0.63858009 0.6391652  0.62180613 0.60776281 0.62083092 0.62141603\n",
      " 0.62258633 0.60893311 0.64306613 0.62609716 0.62512195 0.62824268\n",
      " 0.6182953  0.6612054  0.68461092 0.6812951  0.69611862 0.69982447\n",
      " 0.69650872 0.69026726 0.69416812 0.72225477 0.72713091 0.72186467\n",
      " 0.71464799 0.70021457 0.69221769 0.70801643 0.69767895 0.7140628\n",
      " 0.72069437 0.7140628  0.69163258 0.68500102 0.67700414 0.67641895\n",
      " 0.6820753  0.67544374 0.67856447 0.67953968 0.67056759 0.67895457\n",
      " 0.6816852  0.68753656 0.67992978 0.66686175 0.69494832 0.70001956\n",
      " 0.7045056  0.71230739 0.70821144 0.70587092 0.69026726 0.66725185\n",
      " 0.65866978 0.66491124 0.67895457 0.68500102 0.68831676 0.69533842\n",
      " 0.69865417 0.69299789 0.66492432 0.63821185 0.62423432 0.61475211\n",
      " 0.60530096 0.59584218 0.58684337 0.5783813  0.57037067 0.56274337\n",
      " 0.55546635 0.54852045 0.54189122 0.53556532]\n",
      "14 day output [[0.529531]]\n",
      "15 day input [0.55880634 0.5437878  0.53267019 0.55783112 0.56816853 0.57148435\n",
      " 0.56231717 0.53793644 0.53052467 0.5244783  0.51843185 0.544568\n",
      " 0.53657112 0.55802613 0.56758341 0.56933883 0.56602301 0.58728301\n",
      " 0.60171644 0.61771019 0.61810029 0.61888042 0.64267603 0.63858009\n",
      " 0.6391652  0.62180613 0.60776281 0.62083092 0.62141603 0.62258633\n",
      " 0.60893311 0.64306613 0.62609716 0.62512195 0.62824268 0.6182953\n",
      " 0.6612054  0.68461092 0.6812951  0.69611862 0.69982447 0.69650872\n",
      " 0.69026726 0.69416812 0.72225477 0.72713091 0.72186467 0.71464799\n",
      " 0.70021457 0.69221769 0.70801643 0.69767895 0.7140628  0.72069437\n",
      " 0.7140628  0.69163258 0.68500102 0.67700414 0.67641895 0.6820753\n",
      " 0.67544374 0.67856447 0.67953968 0.67056759 0.67895457 0.6816852\n",
      " 0.68753656 0.67992978 0.66686175 0.69494832 0.70001956 0.7045056\n",
      " 0.71230739 0.70821144 0.70587092 0.69026726 0.66725185 0.65866978\n",
      " 0.66491124 0.67895457 0.68500102 0.68831676 0.69533842 0.69865417\n",
      " 0.69299789 0.66492432 0.63821185 0.62423432 0.61475211 0.60530096\n",
      " 0.59584218 0.58684337 0.5783813  0.57037067 0.56274337 0.55546635\n",
      " 0.54852045 0.54189122 0.53556532 0.529531  ]\n",
      "15 day output [[0.5237778]]\n",
      "16 day input [0.5437878  0.53267019 0.55783112 0.56816853 0.57148435 0.56231717\n",
      " 0.53793644 0.53052467 0.5244783  0.51843185 0.544568   0.53657112\n",
      " 0.55802613 0.56758341 0.56933883 0.56602301 0.58728301 0.60171644\n",
      " 0.61771019 0.61810029 0.61888042 0.64267603 0.63858009 0.6391652\n",
      " 0.62180613 0.60776281 0.62083092 0.62141603 0.62258633 0.60893311\n",
      " 0.64306613 0.62609716 0.62512195 0.62824268 0.6182953  0.6612054\n",
      " 0.68461092 0.6812951  0.69611862 0.69982447 0.69650872 0.69026726\n",
      " 0.69416812 0.72225477 0.72713091 0.72186467 0.71464799 0.70021457\n",
      " 0.69221769 0.70801643 0.69767895 0.7140628  0.72069437 0.7140628\n",
      " 0.69163258 0.68500102 0.67700414 0.67641895 0.6820753  0.67544374\n",
      " 0.67856447 0.67953968 0.67056759 0.67895457 0.6816852  0.68753656\n",
      " 0.67992978 0.66686175 0.69494832 0.70001956 0.7045056  0.71230739\n",
      " 0.70821144 0.70587092 0.69026726 0.66725185 0.65866978 0.66491124\n",
      " 0.67895457 0.68500102 0.68831676 0.69533842 0.69865417 0.69299789\n",
      " 0.66492432 0.63821185 0.62423432 0.61475211 0.60530096 0.59584218\n",
      " 0.58684337 0.5783813  0.57037067 0.56274337 0.55546635 0.54852045\n",
      " 0.54189122 0.53556532 0.529531   0.52377778]\n"
     ]
    },
    {
     "name": "stdout",
     "output_type": "stream",
     "text": [
      "16 day output [[0.51829535]]\n",
      "17 day input [0.53267019 0.55783112 0.56816853 0.57148435 0.56231717 0.53793644\n",
      " 0.53052467 0.5244783  0.51843185 0.544568   0.53657112 0.55802613\n",
      " 0.56758341 0.56933883 0.56602301 0.58728301 0.60171644 0.61771019\n",
      " 0.61810029 0.61888042 0.64267603 0.63858009 0.6391652  0.62180613\n",
      " 0.60776281 0.62083092 0.62141603 0.62258633 0.60893311 0.64306613\n",
      " 0.62609716 0.62512195 0.62824268 0.6182953  0.6612054  0.68461092\n",
      " 0.6812951  0.69611862 0.69982447 0.69650872 0.69026726 0.69416812\n",
      " 0.72225477 0.72713091 0.72186467 0.71464799 0.70021457 0.69221769\n",
      " 0.70801643 0.69767895 0.7140628  0.72069437 0.7140628  0.69163258\n",
      " 0.68500102 0.67700414 0.67641895 0.6820753  0.67544374 0.67856447\n",
      " 0.67953968 0.67056759 0.67895457 0.6816852  0.68753656 0.67992978\n",
      " 0.66686175 0.69494832 0.70001956 0.7045056  0.71230739 0.70821144\n",
      " 0.70587092 0.69026726 0.66725185 0.65866978 0.66491124 0.67895457\n",
      " 0.68500102 0.68831676 0.69533842 0.69865417 0.69299789 0.66492432\n",
      " 0.63821185 0.62423432 0.61475211 0.60530096 0.59584218 0.58684337\n",
      " 0.5783813  0.57037067 0.56274337 0.55546635 0.54852045 0.54189122\n",
      " 0.53556532 0.529531   0.52377778 0.51829535]\n",
      "17 day output [[0.513073]]\n",
      "18 day input [0.55783112 0.56816853 0.57148435 0.56231717 0.53793644 0.53052467\n",
      " 0.5244783  0.51843185 0.544568   0.53657112 0.55802613 0.56758341\n",
      " 0.56933883 0.56602301 0.58728301 0.60171644 0.61771019 0.61810029\n",
      " 0.61888042 0.64267603 0.63858009 0.6391652  0.62180613 0.60776281\n",
      " 0.62083092 0.62141603 0.62258633 0.60893311 0.64306613 0.62609716\n",
      " 0.62512195 0.62824268 0.6182953  0.6612054  0.68461092 0.6812951\n",
      " 0.69611862 0.69982447 0.69650872 0.69026726 0.69416812 0.72225477\n",
      " 0.72713091 0.72186467 0.71464799 0.70021457 0.69221769 0.70801643\n",
      " 0.69767895 0.7140628  0.72069437 0.7140628  0.69163258 0.68500102\n",
      " 0.67700414 0.67641895 0.6820753  0.67544374 0.67856447 0.67953968\n",
      " 0.67056759 0.67895457 0.6816852  0.68753656 0.67992978 0.66686175\n",
      " 0.69494832 0.70001956 0.7045056  0.71230739 0.70821144 0.70587092\n",
      " 0.69026726 0.66725185 0.65866978 0.66491124 0.67895457 0.68500102\n",
      " 0.68831676 0.69533842 0.69865417 0.69299789 0.66492432 0.63821185\n",
      " 0.62423432 0.61475211 0.60530096 0.59584218 0.58684337 0.5783813\n",
      " 0.57037067 0.56274337 0.55546635 0.54852045 0.54189122 0.53556532\n",
      " 0.529531   0.52377778 0.51829535 0.51307303]\n",
      "18 day output [[0.50809973]]\n",
      "19 day input [0.56816853 0.57148435 0.56231717 0.53793644 0.53052467 0.5244783\n",
      " 0.51843185 0.544568   0.53657112 0.55802613 0.56758341 0.56933883\n",
      " 0.56602301 0.58728301 0.60171644 0.61771019 0.61810029 0.61888042\n",
      " 0.64267603 0.63858009 0.6391652  0.62180613 0.60776281 0.62083092\n",
      " 0.62141603 0.62258633 0.60893311 0.64306613 0.62609716 0.62512195\n",
      " 0.62824268 0.6182953  0.6612054  0.68461092 0.6812951  0.69611862\n",
      " 0.69982447 0.69650872 0.69026726 0.69416812 0.72225477 0.72713091\n",
      " 0.72186467 0.71464799 0.70021457 0.69221769 0.70801643 0.69767895\n",
      " 0.7140628  0.72069437 0.7140628  0.69163258 0.68500102 0.67700414\n",
      " 0.67641895 0.6820753  0.67544374 0.67856447 0.67953968 0.67056759\n",
      " 0.67895457 0.6816852  0.68753656 0.67992978 0.66686175 0.69494832\n",
      " 0.70001956 0.7045056  0.71230739 0.70821144 0.70587092 0.69026726\n",
      " 0.66725185 0.65866978 0.66491124 0.67895457 0.68500102 0.68831676\n",
      " 0.69533842 0.69865417 0.69299789 0.66492432 0.63821185 0.62423432\n",
      " 0.61475211 0.60530096 0.59584218 0.58684337 0.5783813  0.57037067\n",
      " 0.56274337 0.55546635 0.54852045 0.54189122 0.53556532 0.529531\n",
      " 0.52377778 0.51829535 0.51307303 0.50809973]\n",
      "19 day output [[0.5033648]]\n",
      "20 day input [0.57148435 0.56231717 0.53793644 0.53052467 0.5244783  0.51843185\n",
      " 0.544568   0.53657112 0.55802613 0.56758341 0.56933883 0.56602301\n",
      " 0.58728301 0.60171644 0.61771019 0.61810029 0.61888042 0.64267603\n",
      " 0.63858009 0.6391652  0.62180613 0.60776281 0.62083092 0.62141603\n",
      " 0.62258633 0.60893311 0.64306613 0.62609716 0.62512195 0.62824268\n",
      " 0.6182953  0.6612054  0.68461092 0.6812951  0.69611862 0.69982447\n",
      " 0.69650872 0.69026726 0.69416812 0.72225477 0.72713091 0.72186467\n",
      " 0.71464799 0.70021457 0.69221769 0.70801643 0.69767895 0.7140628\n",
      " 0.72069437 0.7140628  0.69163258 0.68500102 0.67700414 0.67641895\n",
      " 0.6820753  0.67544374 0.67856447 0.67953968 0.67056759 0.67895457\n",
      " 0.6816852  0.68753656 0.67992978 0.66686175 0.69494832 0.70001956\n",
      " 0.7045056  0.71230739 0.70821144 0.70587092 0.69026726 0.66725185\n",
      " 0.65866978 0.66491124 0.67895457 0.68500102 0.68831676 0.69533842\n",
      " 0.69865417 0.69299789 0.66492432 0.63821185 0.62423432 0.61475211\n",
      " 0.60530096 0.59584218 0.58684337 0.5783813  0.57037067 0.56274337\n",
      " 0.55546635 0.54852045 0.54189122 0.53556532 0.529531   0.52377778\n",
      " 0.51829535 0.51307303 0.50809973 0.5033648 ]\n",
      "20 day output [[0.49885738]]\n",
      "21 day input [0.56231717 0.53793644 0.53052467 0.5244783  0.51843185 0.544568\n",
      " 0.53657112 0.55802613 0.56758341 0.56933883 0.56602301 0.58728301\n",
      " 0.60171644 0.61771019 0.61810029 0.61888042 0.64267603 0.63858009\n",
      " 0.6391652  0.62180613 0.60776281 0.62083092 0.62141603 0.62258633\n",
      " 0.60893311 0.64306613 0.62609716 0.62512195 0.62824268 0.6182953\n",
      " 0.6612054  0.68461092 0.6812951  0.69611862 0.69982447 0.69650872\n",
      " 0.69026726 0.69416812 0.72225477 0.72713091 0.72186467 0.71464799\n",
      " 0.70021457 0.69221769 0.70801643 0.69767895 0.7140628  0.72069437\n",
      " 0.7140628  0.69163258 0.68500102 0.67700414 0.67641895 0.6820753\n",
      " 0.67544374 0.67856447 0.67953968 0.67056759 0.67895457 0.6816852\n",
      " 0.68753656 0.67992978 0.66686175 0.69494832 0.70001956 0.7045056\n",
      " 0.71230739 0.70821144 0.70587092 0.69026726 0.66725185 0.65866978\n",
      " 0.66491124 0.67895457 0.68500102 0.68831676 0.69533842 0.69865417\n",
      " 0.69299789 0.66492432 0.63821185 0.62423432 0.61475211 0.60530096\n",
      " 0.59584218 0.58684337 0.5783813  0.57037067 0.56274337 0.55546635\n",
      " 0.54852045 0.54189122 0.53556532 0.529531   0.52377778 0.51829535\n",
      " 0.51307303 0.50809973 0.5033648  0.49885738]\n",
      "21 day output [[0.494567]]\n",
      "22 day input [0.53793644 0.53052467 0.5244783  0.51843185 0.544568   0.53657112\n",
      " 0.55802613 0.56758341 0.56933883 0.56602301 0.58728301 0.60171644\n",
      " 0.61771019 0.61810029 0.61888042 0.64267603 0.63858009 0.6391652\n",
      " 0.62180613 0.60776281 0.62083092 0.62141603 0.62258633 0.60893311\n",
      " 0.64306613 0.62609716 0.62512195 0.62824268 0.6182953  0.6612054\n",
      " 0.68461092 0.6812951  0.69611862 0.69982447 0.69650872 0.69026726\n",
      " 0.69416812 0.72225477 0.72713091 0.72186467 0.71464799 0.70021457\n",
      " 0.69221769 0.70801643 0.69767895 0.7140628  0.72069437 0.7140628\n",
      " 0.69163258 0.68500102 0.67700414 0.67641895 0.6820753  0.67544374\n",
      " 0.67856447 0.67953968 0.67056759 0.67895457 0.6816852  0.68753656\n",
      " 0.67992978 0.66686175 0.69494832 0.70001956 0.7045056  0.71230739\n",
      " 0.70821144 0.70587092 0.69026726 0.66725185 0.65866978 0.66491124\n",
      " 0.67895457 0.68500102 0.68831676 0.69533842 0.69865417 0.69299789\n",
      " 0.66492432 0.63821185 0.62423432 0.61475211 0.60530096 0.59584218\n",
      " 0.58684337 0.5783813  0.57037067 0.56274337 0.55546635 0.54852045\n",
      " 0.54189122 0.53556532 0.529531   0.52377778 0.51829535 0.51307303\n",
      " 0.50809973 0.5033648  0.49885738 0.49456701]\n",
      "22 day output [[0.4904831]]\n",
      "23 day input [0.53052467 0.5244783  0.51843185 0.544568   0.53657112 0.55802613\n",
      " 0.56758341 0.56933883 0.56602301 0.58728301 0.60171644 0.61771019\n",
      " 0.61810029 0.61888042 0.64267603 0.63858009 0.6391652  0.62180613\n",
      " 0.60776281 0.62083092 0.62141603 0.62258633 0.60893311 0.64306613\n",
      " 0.62609716 0.62512195 0.62824268 0.6182953  0.6612054  0.68461092\n",
      " 0.6812951  0.69611862 0.69982447 0.69650872 0.69026726 0.69416812\n",
      " 0.72225477 0.72713091 0.72186467 0.71464799 0.70021457 0.69221769\n",
      " 0.70801643 0.69767895 0.7140628  0.72069437 0.7140628  0.69163258\n",
      " 0.68500102 0.67700414 0.67641895 0.6820753  0.67544374 0.67856447\n",
      " 0.67953968 0.67056759 0.67895457 0.6816852  0.68753656 0.67992978\n",
      " 0.66686175 0.69494832 0.70001956 0.7045056  0.71230739 0.70821144\n",
      " 0.70587092 0.69026726 0.66725185 0.65866978 0.66491124 0.67895457\n",
      " 0.68500102 0.68831676 0.69533842 0.69865417 0.69299789 0.66492432\n",
      " 0.63821185 0.62423432 0.61475211 0.60530096 0.59584218 0.58684337\n",
      " 0.5783813  0.57037067 0.56274337 0.55546635 0.54852045 0.54189122\n",
      " 0.53556532 0.529531   0.52377778 0.51829535 0.51307303 0.50809973\n",
      " 0.5033648  0.49885738 0.49456701 0.49048311]\n",
      "23 day output [[0.48659545]]\n",
      "24 day input [0.5244783  0.51843185 0.544568   0.53657112 0.55802613 0.56758341\n",
      " 0.56933883 0.56602301 0.58728301 0.60171644 0.61771019 0.61810029\n",
      " 0.61888042 0.64267603 0.63858009 0.6391652  0.62180613 0.60776281\n",
      " 0.62083092 0.62141603 0.62258633 0.60893311 0.64306613 0.62609716\n",
      " 0.62512195 0.62824268 0.6182953  0.6612054  0.68461092 0.6812951\n",
      " 0.69611862 0.69982447 0.69650872 0.69026726 0.69416812 0.72225477\n",
      " 0.72713091 0.72186467 0.71464799 0.70021457 0.69221769 0.70801643\n",
      " 0.69767895 0.7140628  0.72069437 0.7140628  0.69163258 0.68500102\n",
      " 0.67700414 0.67641895 0.6820753  0.67544374 0.67856447 0.67953968\n",
      " 0.67056759 0.67895457 0.6816852  0.68753656 0.67992978 0.66686175\n",
      " 0.69494832 0.70001956 0.7045056  0.71230739 0.70821144 0.70587092\n",
      " 0.69026726 0.66725185 0.65866978 0.66491124 0.67895457 0.68500102\n",
      " 0.68831676 0.69533842 0.69865417 0.69299789 0.66492432 0.63821185\n",
      " 0.62423432 0.61475211 0.60530096 0.59584218 0.58684337 0.5783813\n",
      " 0.57037067 0.56274337 0.55546635 0.54852045 0.54189122 0.53556532\n",
      " 0.529531   0.52377778 0.51829535 0.51307303 0.50809973 0.5033648\n",
      " 0.49885738 0.49456701 0.49048311 0.48659545]\n"
     ]
    },
    {
     "name": "stdout",
     "output_type": "stream",
     "text": [
      "24 day output [[0.48289415]]\n",
      "25 day input [0.51843185 0.544568   0.53657112 0.55802613 0.56758341 0.56933883\n",
      " 0.56602301 0.58728301 0.60171644 0.61771019 0.61810029 0.61888042\n",
      " 0.64267603 0.63858009 0.6391652  0.62180613 0.60776281 0.62083092\n",
      " 0.62141603 0.62258633 0.60893311 0.64306613 0.62609716 0.62512195\n",
      " 0.62824268 0.6182953  0.6612054  0.68461092 0.6812951  0.69611862\n",
      " 0.69982447 0.69650872 0.69026726 0.69416812 0.72225477 0.72713091\n",
      " 0.72186467 0.71464799 0.70021457 0.69221769 0.70801643 0.69767895\n",
      " 0.7140628  0.72069437 0.7140628  0.69163258 0.68500102 0.67700414\n",
      " 0.67641895 0.6820753  0.67544374 0.67856447 0.67953968 0.67056759\n",
      " 0.67895457 0.6816852  0.68753656 0.67992978 0.66686175 0.69494832\n",
      " 0.70001956 0.7045056  0.71230739 0.70821144 0.70587092 0.69026726\n",
      " 0.66725185 0.65866978 0.66491124 0.67895457 0.68500102 0.68831676\n",
      " 0.69533842 0.69865417 0.69299789 0.66492432 0.63821185 0.62423432\n",
      " 0.61475211 0.60530096 0.59584218 0.58684337 0.5783813  0.57037067\n",
      " 0.56274337 0.55546635 0.54852045 0.54189122 0.53556532 0.529531\n",
      " 0.52377778 0.51829535 0.51307303 0.50809973 0.5033648  0.49885738\n",
      " 0.49456701 0.49048311 0.48659545 0.48289415]\n",
      "25 day output [[0.47936946]]\n",
      "26 day input [0.544568   0.53657112 0.55802613 0.56758341 0.56933883 0.56602301\n",
      " 0.58728301 0.60171644 0.61771019 0.61810029 0.61888042 0.64267603\n",
      " 0.63858009 0.6391652  0.62180613 0.60776281 0.62083092 0.62141603\n",
      " 0.62258633 0.60893311 0.64306613 0.62609716 0.62512195 0.62824268\n",
      " 0.6182953  0.6612054  0.68461092 0.6812951  0.69611862 0.69982447\n",
      " 0.69650872 0.69026726 0.69416812 0.72225477 0.72713091 0.72186467\n",
      " 0.71464799 0.70021457 0.69221769 0.70801643 0.69767895 0.7140628\n",
      " 0.72069437 0.7140628  0.69163258 0.68500102 0.67700414 0.67641895\n",
      " 0.6820753  0.67544374 0.67856447 0.67953968 0.67056759 0.67895457\n",
      " 0.6816852  0.68753656 0.67992978 0.66686175 0.69494832 0.70001956\n",
      " 0.7045056  0.71230739 0.70821144 0.70587092 0.69026726 0.66725185\n",
      " 0.65866978 0.66491124 0.67895457 0.68500102 0.68831676 0.69533842\n",
      " 0.69865417 0.69299789 0.66492432 0.63821185 0.62423432 0.61475211\n",
      " 0.60530096 0.59584218 0.58684337 0.5783813  0.57037067 0.56274337\n",
      " 0.55546635 0.54852045 0.54189122 0.53556532 0.529531   0.52377778\n",
      " 0.51829535 0.51307303 0.50809973 0.5033648  0.49885738 0.49456701\n",
      " 0.49048311 0.48659545 0.48289415 0.47936946]\n",
      "26 day output [[0.47601232]]\n",
      "27 day input [0.53657112 0.55802613 0.56758341 0.56933883 0.56602301 0.58728301\n",
      " 0.60171644 0.61771019 0.61810029 0.61888042 0.64267603 0.63858009\n",
      " 0.6391652  0.62180613 0.60776281 0.62083092 0.62141603 0.62258633\n",
      " 0.60893311 0.64306613 0.62609716 0.62512195 0.62824268 0.6182953\n",
      " 0.6612054  0.68461092 0.6812951  0.69611862 0.69982447 0.69650872\n",
      " 0.69026726 0.69416812 0.72225477 0.72713091 0.72186467 0.71464799\n",
      " 0.70021457 0.69221769 0.70801643 0.69767895 0.7140628  0.72069437\n",
      " 0.7140628  0.69163258 0.68500102 0.67700414 0.67641895 0.6820753\n",
      " 0.67544374 0.67856447 0.67953968 0.67056759 0.67895457 0.6816852\n",
      " 0.68753656 0.67992978 0.66686175 0.69494832 0.70001956 0.7045056\n",
      " 0.71230739 0.70821144 0.70587092 0.69026726 0.66725185 0.65866978\n",
      " 0.66491124 0.67895457 0.68500102 0.68831676 0.69533842 0.69865417\n",
      " 0.69299789 0.66492432 0.63821185 0.62423432 0.61475211 0.60530096\n",
      " 0.59584218 0.58684337 0.5783813  0.57037067 0.56274337 0.55546635\n",
      " 0.54852045 0.54189122 0.53556532 0.529531   0.52377778 0.51829535\n",
      " 0.51307303 0.50809973 0.5033648  0.49885738 0.49456701 0.49048311\n",
      " 0.48659545 0.48289415 0.47936946 0.47601232]\n",
      "27 day output [[0.47281387]]\n",
      "28 day input [0.55802613 0.56758341 0.56933883 0.56602301 0.58728301 0.60171644\n",
      " 0.61771019 0.61810029 0.61888042 0.64267603 0.63858009 0.6391652\n",
      " 0.62180613 0.60776281 0.62083092 0.62141603 0.62258633 0.60893311\n",
      " 0.64306613 0.62609716 0.62512195 0.62824268 0.6182953  0.6612054\n",
      " 0.68461092 0.6812951  0.69611862 0.69982447 0.69650872 0.69026726\n",
      " 0.69416812 0.72225477 0.72713091 0.72186467 0.71464799 0.70021457\n",
      " 0.69221769 0.70801643 0.69767895 0.7140628  0.72069437 0.7140628\n",
      " 0.69163258 0.68500102 0.67700414 0.67641895 0.6820753  0.67544374\n",
      " 0.67856447 0.67953968 0.67056759 0.67895457 0.6816852  0.68753656\n",
      " 0.67992978 0.66686175 0.69494832 0.70001956 0.7045056  0.71230739\n",
      " 0.70821144 0.70587092 0.69026726 0.66725185 0.65866978 0.66491124\n",
      " 0.67895457 0.68500102 0.68831676 0.69533842 0.69865417 0.69299789\n",
      " 0.66492432 0.63821185 0.62423432 0.61475211 0.60530096 0.59584218\n",
      " 0.58684337 0.5783813  0.57037067 0.56274337 0.55546635 0.54852045\n",
      " 0.54189122 0.53556532 0.529531   0.52377778 0.51829535 0.51307303\n",
      " 0.50809973 0.5033648  0.49885738 0.49456701 0.49048311 0.48659545\n",
      " 0.48289415 0.47936946 0.47601232 0.47281387]\n",
      "28 day output [[0.46976566]]\n",
      "29 day input [0.56758341 0.56933883 0.56602301 0.58728301 0.60171644 0.61771019\n",
      " 0.61810029 0.61888042 0.64267603 0.63858009 0.6391652  0.62180613\n",
      " 0.60776281 0.62083092 0.62141603 0.62258633 0.60893311 0.64306613\n",
      " 0.62609716 0.62512195 0.62824268 0.6182953  0.6612054  0.68461092\n",
      " 0.6812951  0.69611862 0.69982447 0.69650872 0.69026726 0.69416812\n",
      " 0.72225477 0.72713091 0.72186467 0.71464799 0.70021457 0.69221769\n",
      " 0.70801643 0.69767895 0.7140628  0.72069437 0.7140628  0.69163258\n",
      " 0.68500102 0.67700414 0.67641895 0.6820753  0.67544374 0.67856447\n",
      " 0.67953968 0.67056759 0.67895457 0.6816852  0.68753656 0.67992978\n",
      " 0.66686175 0.69494832 0.70001956 0.7045056  0.71230739 0.70821144\n",
      " 0.70587092 0.69026726 0.66725185 0.65866978 0.66491124 0.67895457\n",
      " 0.68500102 0.68831676 0.69533842 0.69865417 0.69299789 0.66492432\n",
      " 0.63821185 0.62423432 0.61475211 0.60530096 0.59584218 0.58684337\n",
      " 0.5783813  0.57037067 0.56274337 0.55546635 0.54852045 0.54189122\n",
      " 0.53556532 0.529531   0.52377778 0.51829535 0.51307303 0.50809973\n",
      " 0.5033648  0.49885738 0.49456701 0.49048311 0.48659545 0.48289415\n",
      " 0.47936946 0.47601232 0.47281387 0.46976566]\n",
      "29 day output [[0.46686018]]\n",
      "[[0.6649243235588074], [0.6382118463516235], [0.6242343187332153], [0.6147521138191223], [0.6053009629249573], [0.595842182636261], [0.5868433713912964], [0.5783812999725342], [0.5703706741333008], [0.5627433657646179], [0.55546635389328], [0.5485204458236694], [0.5418912172317505], [0.5355653166770935], [0.5295310020446777], [0.5237777829170227], [0.5182953476905823], [0.5130730271339417], [0.5080997347831726], [0.5033648014068604], [0.49885737895965576], [0.49456700682640076], [0.4904831051826477], [0.4865954518318176], [0.4828941524028778], [0.47936946153640747], [0.47601231932640076], [0.4728138744831085], [0.46976566314697266], [0.46686017513275146]]\n"
     ]
    }
   ],
   "source": [
    "# demonstrate prediction for next 10 days\n",
    "from numpy import array\n",
    "\n",
    "lst_output=[]\n",
    "n_steps=100\n",
    "i=0\n",
    "while(i<30):\n",
    "    \n",
    "    if(len(temp_input)>100):\n",
    "        #print(temp_input)\n",
    "        x_input=np.array(temp_input[1:])\n",
    "        print(\"{} day input {}\".format(i,x_input))\n",
    "        x_input=x_input.reshape(1,-1)\n",
    "        x_input = x_input.reshape((1, n_steps, 1))\n",
    "        #print(x_input)\n",
    "        yhat = model.predict(x_input, verbose=0)\n",
    "        print(\"{} day output {}\".format(i,yhat))\n",
    "        temp_input.extend(yhat[0].tolist())\n",
    "        temp_input=temp_input[1:]\n",
    "        #print(temp_input)\n",
    "        lst_output.extend(yhat.tolist())\n",
    "        i=i+1\n",
    "    else:\n",
    "        x_input = x_input.reshape((1, n_steps,1))\n",
    "        yhat = model.predict(x_input, verbose=0)\n",
    "        print(yhat[0])\n",
    "        temp_input.extend(yhat[0].tolist())\n",
    "        print(len(temp_input))\n",
    "        lst_output.extend(yhat.tolist())\n",
    "        i=i+1\n",
    "    \n",
    "\n",
    "print(lst_output)"
   ]
  },
  {
   "cell_type": "code",
   "execution_count": 81,
   "id": "8a960ee4",
   "metadata": {},
   "outputs": [],
   "source": [
    "day_new=np.arange(1,101)\n",
    "day_pred=np.arange(101,131)"
   ]
  },
  {
   "cell_type": "code",
   "execution_count": 82,
   "id": "e3913cc2",
   "metadata": {},
   "outputs": [
    {
     "data": {
      "text/plain": [
       "5033"
      ]
     },
     "execution_count": 82,
     "metadata": {},
     "output_type": "execute_result"
    }
   ],
   "source": [
    "len(df1)"
   ]
  },
  {
   "cell_type": "code",
   "execution_count": 83,
   "id": "1515f3be",
   "metadata": {},
   "outputs": [
    {
     "data": {
      "text/plain": [
       "[<matplotlib.lines.Line2D at 0x8058ad6220>]"
      ]
     },
     "execution_count": 83,
     "metadata": {},
     "output_type": "execute_result"
    },
    {
     "data": {
      "image/png": "[encoded data removed]",
      "text/plain": [
       "<Figure size 640x480 with 1 Axes>"
      ]
     },
     "metadata": {},
     "output_type": "display_data"
    }
   ],
   "source": [
    "plt.plot(day_new,scaler.inverse_transform(df1[4933:]))\n",
    "plt.plot(day_pred,scaler.inverse_transform(lst_output))"
   ]
  },
  {
   "cell_type": "code",
   "execution_count": 84,
   "id": "3b4c79da",
   "metadata": {},
   "outputs": [
    {
     "data": {
      "text/plain": [
       "[<matplotlib.lines.Line2D at 0x8058b2fa00>]"
      ]
     },
     "execution_count": 84,
     "metadata": {},
     "output_type": "execute_result"
    },
    {
     "data": {
      "image/png": "[encoded data removed]",
      "text/plain": [
       "<Figure size 640x480 with 1 Axes>"
      ]
     },
     "metadata": {},
     "output_type": "display_data"
    }
   ],
   "source": [
    "df3=df1.tolist()\n",
    "df3.extend(lst_output)\n",
    "plt.plot(df3[5000:])"
   ]
  },
  {
   "cell_type": "code",
   "execution_count": 85,
   "id": "720eed51",
   "metadata": {},
   "outputs": [],
   "source": [
    "df3=scaler.inverse_transform(df3).tolist()"
   ]
  },
  {
   "cell_type": "code",
   "execution_count": 86,
   "id": "cdc40e7b",
   "metadata": {},
   "outputs": [
    {
     "data": {
      "text/plain": [
       "[<matplotlib.lines.Line2D at 0x8058b95400>]"
      ]
     },
     "execution_count": 86,
     "metadata": {},
     "output_type": "execute_result"
    },
    {
     "data": {
      "image/png": "[encoded data removed]",
      "text/plain": [
       "<Figure size 640x480 with 1 Axes>"
      ]
     },
     "metadata": {},
     "output_type": "display_data"
    }
   ],
   "source": [
    "plt.plot(df3)"
   ]
  },
  {
   "cell_type": "code",
   "execution_count": 87,
   "id": "437716f3",
   "metadata": {},
   "outputs": [],
   "source": [
    "model.save(\"investment_lstm_model.h5\")"
   ]
  },
  {
   "cell_type": "markdown",
   "id": "bb4e5ee1",
   "metadata": {},
   "source": [
    "### Dataset Creation"
   ]
  },
  {
   "cell_type": "code",
   "execution_count": 98,
   "id": "c854265f",
   "metadata": {},
   "outputs": [],
   "source": [
    "df_cisco.to_csv('CISCO.csv', index = False)"
   ]
  },
  {
   "cell_type": "code",
   "execution_count": 88,
   "id": "05084ffd",
   "metadata": {},
   "outputs": [
    {
     "name": "stdout",
     "output_type": "stream",
     "text": [
      "[*********************100%***********************]  1 of 1 completed\n"
     ]
    }
   ],
   "source": [
    "df_apple = yfin.download('AAPL', start = '2003-2-1' , end = '2023-1-31')"
   ]
  },
  {
   "cell_type": "code",
   "execution_count": 94,
   "id": "3f3e2360",
   "metadata": {},
   "outputs": [],
   "source": [
    "df_apple.to_csv('APPLE.csv', index=False)"
   ]
  },
  {
   "cell_type": "code",
   "execution_count": 89,
   "id": "98c76a0d",
   "metadata": {},
   "outputs": [
    {
     "name": "stdout",
     "output_type": "stream",
     "text": [
      "[*********************100%***********************]  1 of 1 completed\n"
     ]
    }
   ],
   "source": [
    "df_infosys = yfin.download('INFY', start = '2003-2-1' , end = '2023-1-31')"
   ]
  },
  {
   "cell_type": "code",
   "execution_count": 95,
   "id": "6378a245",
   "metadata": {},
   "outputs": [],
   "source": [
    "df_infosys.to_csv('INFOSYS.csv', index=False)"
   ]
  },
  {
   "cell_type": "code",
   "execution_count": 92,
   "id": "9d6a7724",
   "metadata": {},
   "outputs": [
    {
     "name": "stdout",
     "output_type": "stream",
     "text": [
      "[*********************100%***********************]  1 of 1 completed\n"
     ]
    }
   ],
   "source": [
    "df_google = yfin.download('GOOGL', start = '2003-2-1' , end = '2023-1-31')"
   ]
  },
  {
   "cell_type": "code",
   "execution_count": 96,
   "id": "09f72e03",
   "metadata": {},
   "outputs": [],
   "source": [
    "df_google.to_csv('GOOGLE.csv', index=False)"
   ]
  },
  {
   "cell_type": "code",
   "execution_count": 93,
   "id": "98136837",
   "metadata": {},
   "outputs": [
    {
     "name": "stdout",
     "output_type": "stream",
     "text": [
      "[*********************100%***********************]  1 of 1 completed\n"
     ]
    }
   ],
   "source": [
    "df_amazon = yfin.download('AMZN', start = '2003-2-1' , end = '2023-1-31')"
   ]
  },
  {
   "cell_type": "code",
   "execution_count": 97,
   "id": "1429e47f",
   "metadata": {},
   "outputs": [],
   "source": [
    "df_amazon.to_csv('AMAZON.csv', index=False)"
   ]
  },
  {
   "cell_type": "code",
   "execution_count": null,
   "id": "7e9e3d04",
   "metadata": {},
   "outputs": [],
   "source": []
  }
 ],
 "metadata": {
  "kernelspec": {
   "display_name": "Python 3 (ipykernel)",
   "language": "python",
   "name": "python3"
  },
  "language_info": {
   "codemirror_mode": {
    "name": "ipython",
    "version": 3
   },
   "file_extension": ".py",
   "mimetype": "text/x-python",
   "name": "python",
   "nbconvert_exporter": "python",
   "pygments_lexer": "ipython3",
   "version": "3.9.13"
  }
 },
 "nbformat": 4,
 "nbformat_minor": 5
}
